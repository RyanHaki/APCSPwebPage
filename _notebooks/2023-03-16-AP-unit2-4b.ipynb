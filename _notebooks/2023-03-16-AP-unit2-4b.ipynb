{
 "cells": [
  {
   "attachments": {},
   "cell_type": "markdown",
   "metadata": {},
   "source": [
    "#  Unit 2.4b Using Programs with Data, SQL\n",
    "> Using Programs with Data is focused on SQL and database actions.  Part B focuses on learning SQL commands, connections, and curses using an Imperative programming style,\n",
    "- toc: true\n",
    "- image: /images/python.png\n",
    "- categories: []\n",
    "- type: ap\n",
    "- week: 26"
   ]
  },
  {
   "attachments": {},
   "cell_type": "markdown",
   "metadata": {},
   "source": [
    "# Database Programming is Program with Data\n",
    "> Each Tri 2 Final Project should be an example of a Program with Data. \n",
    "\n",
    ">  Prepare to use SQLite in common Imperative Technique\n",
    "- Explore [SQLite Connect object](https://www.tutorialspoint.com/python_data_access/python_sqlite_establishing_connection.htm) to establish database connection\n",
    "- Explore [SQLite Cursor Object](https://www.tutorialspoint.com/python_data_access/python_sqlite_cursor_object.htm) to fetch data from a table within a database\n"
   ]
  },
  {
   "attachments": {},
   "cell_type": "markdown",
   "metadata": {},
   "source": [
    "## Schema of Users table in Sqlite.db\n",
    "> Uses PRAGMA statement to read schema.\n",
    "\n",
    "Describe Schema, here is resource [Resource](https://www.sqlite.org/index.html)\n",
    "- The structure of the database with the data organized into a blueprint.\n",
    "\n",
    "- What is a database schema?\n",
    "Identity columns are used for generating key values, which enable the rows to be unique and identified.\n",
    "- What is the purpose of identity Column in SQL database?\n",
    "Gives a unique value to each row and allows them to be identified.\n",
    "- What is the purpose of a primary key in SQL database?\n",
    "- What are the Data Types in SQL table?\n",
    "Integer ,string, booleans, structures, lists, ect"
   ]
  },
  {
   "cell_type": "code",
   "execution_count": 1,
   "metadata": {},
   "outputs": [
    {
     "name": "stdout",
     "output_type": "stream",
     "text": [
      "(0, 'id', 'INTEGER', 1, None, 1)\n",
      "(1, '_name', 'VARCHAR(255)', 1, None, 0)\n",
      "(2, '_uid', 'VARCHAR(255)', 1, None, 0)\n",
      "(3, '_password', 'VARCHAR(255)', 1, None, 0)\n",
      "(4, '_dob', 'DATE', 0, None, 0)\n"
     ]
    }
   ],
   "source": [
    "import sqlite3\n",
    "\n",
    "database = 'instance/sqlite.db' # this is location of database\n",
    "\n",
    "def schema():\n",
    "    \n",
    "    # Connect to the database file\n",
    "    conn = sqlite3.connect(database)\n",
    "\n",
    "    # Create a cursor object to execute SQL queries\n",
    "    cursor = conn.cursor()\n",
    "    \n",
    "    # Fetch results of Schema\n",
    "    results = cursor.execute(\"PRAGMA table_info('users')\").fetchall()\n",
    "\n",
    "    # Print the results\n",
    "    for row in results:\n",
    "        print(row)\n",
    "\n",
    "    # Close the database connection\n",
    "    conn.close()\n",
    "    \n",
    "schema()\n"
   ]
  },
  {
   "attachments": {},
   "cell_type": "markdown",
   "metadata": {},
   "source": [
    "## Reading Users table in Sqlite.db\n",
    "> Uses SQL SELECT statement to read data\n",
    "\n",
    "- What is a connection object?  After you google it, what do you think it does?\n",
    "A connection object represents a unique session with a data source. Its purpose is to create an open connection to a data source.\n",
    "- Same for cursor object?\n",
    "It is used to make a connection for executing SQL queries.\n",
    "- Look at conn object and cursor object in VSCode debugger.  What attributes are in the object?\n",
    "They both have many special variables and function variables.\n",
    "- Is \"results\" an object?  How do you know?\n",
    "Yes since \n",
    "\"results\" is an object because it contains data and many variables.\n"
   ]
  },
  {
   "cell_type": "code",
   "execution_count": 7,
   "metadata": {},
   "outputs": [
    {
     "name": "stdout",
     "output_type": "stream",
     "text": [
      "(1, 'Thomas Edison', 'toby', 'sha256$5ipxWQ1EWNz9sGIv$9bc47aeb528f0fdeb600a01a1f1599177e8ba71ba945b0e1d4c86cb8280162c2', '1847-02-11')\n",
      "(2, 'Nikola Tesla', 'niko', 'sha256$Bn3S9aE9TyXGhbwE$b3064af2930403b3d3c519d9b4890860a25c7b05ba47b00e50176d434ab6a0a9', '2023-03-15')\n",
      "(3, 'Alexander Graham Bell', 'lex', 'sha256$Fulh6ZsKnYUlZY10$49f42341c7828e3328d79bab00376155f396765c35d1d7eeb9040ec613577a28', '2023-03-15')\n",
      "(4, 'Eli Whitney', 'whit', 'sha256$trpnug7F9YPTJMMh$53a70e97100c25aa517a802be7b4225c34f80c010515f63d944d4926ca2f7999', '2023-03-15')\n",
      "(5, 'Indiana Jones', 'indi', 'sha256$UHOka4B2uz6f2e0l$1808ccde3beb063b7a30f04b9de35b65f2565538da8ef21c797bfc7e67df3252', '1920-10-21')\n",
      "(6, 'Marion Ravenwood', 'raven', 'sha256$W4TtGEIfj5hQg6rt$1377cf86e9f8da7754f7de6c220ff187be267c432b8cd0c5becb743d37323da0', '1921-10-21')\n",
      "(7, '', 'max', 'sha256$eGq1yYD2b6kBZUlL$272019d1293f01d7e14d9bddc8474a58031460835a8a28bbfcbcf6e133512408', '2023-03-15')\n",
      "(8, 'Ryan', 'ryan', 'sha256$voTcJfViIQoxzuAd$07ded2b3bf9406d830b2995b12b1b2d665bcebdd41caf706cea3fa48bfc1ca9b', '2007-06-15')\n",
      "(9, 'Ryan', 'lyntax', 'SUPERSECRETLYNTAX', '2022-08-01')\n",
      "(10, 'Soham', 'Kamat', 'lucasstinks', '2007-03-09')\n",
      "(11, 'Lucas', '11', 'sha256$sIkMFcO3qC30sbef$e62766cf882b7f5be252461996a2cc8d883c7dcfc0ffe40de920b09b11cb627f', '2007-06-15')\n",
      "(12, 'Anthony', 'Baz', 'anthony', '2007-01-18')\n"
     ]
    }
   ],
   "source": [
    "import sqlite3\n",
    "\n",
    "def read():\n",
    "    # Connect to the database file\n",
    "    conn = sqlite3.connect(database)\n",
    "\n",
    "    # Create a cursor object to execute SQL queries\n",
    "    cursor = conn.cursor()\n",
    "    \n",
    "    # Execute a SELECT statement to retrieve data from a table\n",
    "    results = cursor.execute('SELECT * FROM users').fetchall()\n",
    "\n",
    "    # Print the results\n",
    "    if len(results) == 0:\n",
    "        print(\"Table is empty\")\n",
    "    else:\n",
    "        for row in results:\n",
    "            print(row)\n",
    "\n",
    "    # Close the cursor and connection objects\n",
    "    cursor.close()\n",
    "    conn.close()\n",
    "    \n",
    "read()\n"
   ]
  },
  {
   "attachments": {},
   "cell_type": "markdown",
   "metadata": {},
   "source": [
    "## Create a new User in table in Sqlite.db\n",
    "> Uses SQL INSERT to add row\n",
    "-  Compore create() in both SQL lessons.  What is better or worse in the two implementations?\n",
    "This create is better and can do more functions but is relatively worse when the SQL database is small. In this case, the other method is better because it works better in less data.\n",
    "-  Explain purpose of SQL INSERT.   Is this the same as User __init__?\n",
    "This inserts data into the table while the User init initializes user object with the data."
   ]
  },
  {
   "cell_type": "code",
   "execution_count": 3,
   "metadata": {},
   "outputs": [
    {
     "name": "stdout",
     "output_type": "stream",
     "text": [
      "A new user record Baz has been created\n"
     ]
    }
   ],
   "source": [
    "import sqlite3\n",
    "\n",
    "def create():\n",
    "    name = input(\"Enter your name:\")\n",
    "    uid = input(\"Enter your user id:\")\n",
    "    password = input(\"Enter your password\")\n",
    "    dob = input(\"Enter your date of birth 'YYYY-MM-DD'\")\n",
    "    \n",
    "    # Connect to the database file\n",
    "    conn = sqlite3.connect(database)\n",
    "\n",
    "    # Create a cursor object to execute SQL commands\n",
    "    cursor = conn.cursor()\n",
    "\n",
    "    try:\n",
    "        # Execute an SQL command to insert data into a table\n",
    "        cursor.execute(\"INSERT INTO users (_name, _uid, _password, _dob) VALUES (?, ?, ?, ?)\", (name, uid, password, dob))\n",
    "        \n",
    "        # Commit the changes to the database\n",
    "        conn.commit()\n",
    "        print(f\"A new user record {uid} has been created\")\n",
    "                \n",
    "    except sqlite3.Error as error:\n",
    "        print(\"Error while executing the INSERT:\", error)\n",
    "\n",
    "\n",
    "    # Close the cursor and connection objects\n",
    "    cursor.close()\n",
    "    conn.close()\n",
    "    \n",
    "create()"
   ]
  },
  {
   "attachments": {},
   "cell_type": "markdown",
   "metadata": {},
   "source": [
    "## Updating a User in table in Sqlite.db\n",
    "> Uses SQL UPDATE to modify password\n",
    "- What does the hacked part do?\n",
    "The hacked part appears when the password is less than 2 characters. It sets the passwrod to a new one.\n",
    "- Explain try/except, when would except occur?\n",
    "Try and except enable coders to test error code. Except occurs if there is an error with try.\n",
    "- What code seems to be repeated in each of these examples to point, why is it repeated?\n",
    "Defining conn and cursor seem to repeat, and cursor uses SQL commands UPDATE, DELETE, INSERT, and SELECT."
   ]
  },
  {
   "cell_type": "code",
   "execution_count": 4,
   "metadata": {},
   "outputs": [],
   "source": [
    "import sqlite3\n",
    "\n",
    "def update():\n",
    "    uid = input(\"Enter user id to update\")\n",
    "    password = input(\"Enter updated password\")\n",
    "    if len(password) < 2:\n",
    "        message = \"hacked\"\n",
    "        password = 'gothackednewpassword123'\n",
    "    else:\n",
    "        message = \"successfully updated\"\n",
    "\n",
    "    # Connect to the database file\n",
    "    conn = sqlite3.connect(database)\n",
    "\n",
    "    # Create a cursor object to execute SQL commands\n",
    "    cursor = conn.cursor()\n",
    "\n",
    "    try:\n",
    "        # Execute an SQL command to update data in a table\n",
    "        cursor.execute(\"UPDATE users SET _password = ? WHERE _uid = ?\", (password, uid))\n",
    "        if cursor.rowcount == 0:\n",
    "            # The uid was not found in the table\n",
    "            print(f\"No uid {uid} was not found in the table\")\n",
    "        else:\n",
    "            print(f\"The row with user id {uid} the password has been {message}\")\n",
    "            conn.commit()\n",
    "    except sqlite3.Error as error:\n",
    "        print(\"Error while executing the UPDATE:\", error)\n",
    "        \n",
    "    \n",
    "    # Close the cursor and connection objects\n",
    "    cursor.close()\n",
    "    conn.close()\n",
    "    \n",
    "#update()\n"
   ]
  },
  {
   "attachments": {},
   "cell_type": "markdown",
   "metadata": {},
   "source": [
    "## Delete a User in table in Sqlite.db\n",
    "> Uses a delete function to remove a user based on a user input of the id.\n",
    "- Is DELETE a dangerous operation?  Why?\n",
    "DELETE is a dangerous operation because if done incorrectly, it can delete all the data and all the records from the database.\n",
    "- In the print statemements, what is the \"f\" and what does {uid} do?\n",
    "The use of f makes it an f-string, or string format. The {uid} is a placeholder and the variable will be used within the string."
   ]
  },
  {
   "cell_type": "code",
   "execution_count": 5,
   "metadata": {},
   "outputs": [],
   "source": [
    "import sqlite3\n",
    "\n",
    "def delete():\n",
    "    uid = input(\"Enter user id to delete\")\n",
    "\n",
    "    # Connect to the database file\n",
    "    conn = sqlite3.connect(database)\n",
    "\n",
    "    # Create a cursor object to execute SQL commands\n",
    "    cursor = conn.cursor()\n",
    "    \n",
    "    try:\n",
    "        cursor.execute(\"DELETE FROM users WHERE _uid = ?\", (uid,))\n",
    "        if cursor.rowcount == 0:\n",
    "            # The uid was not found in the table\n",
    "            print(f\"No uid {uid} was not found in the table\")\n",
    "        else:\n",
    "            # The uid was found in the table and the row was deleted\n",
    "            print(f\"The row with uid {uid} was successfully deleted\")\n",
    "        conn.commit()\n",
    "    except sqlite3.Error as error:\n",
    "        print(\"Error while executing the DELETE:\", error)\n",
    "        \n",
    "    # Close the cursor and connection objects\n",
    "    cursor.close()\n",
    "    conn.close()\n",
    "    \n",
    "#delete()"
   ]
  },
  {
   "attachments": {},
   "cell_type": "markdown",
   "metadata": {},
   "source": [
    "# Menu Interface to CRUD operations\n",
    "> CRUD and Schema interactions from one location by running menu. Observe input at the top of VSCode, observe output underneath code cell.\n",
    "- Why does the menu repeat?\n",
    "The menue repeats because it is a sorce of recursion. It keeps going and does the crud operations until the user decides to stop.\n",
    "- Could you refactor this menu?  Make it work with a List?\n",
    "This menu could be refacted using loops and it could possibly work with a list."
   ]
  },
  {
   "cell_type": "code",
   "execution_count": 8,
   "metadata": {},
   "outputs": [
    {
     "name": "stdout",
     "output_type": "stream",
     "text": [
      "The row with uid Baz was successfully deleted\n",
      "(0, 'id', 'INTEGER', 1, None, 1)\n",
      "(1, '_name', 'VARCHAR(255)', 1, None, 0)\n",
      "(2, '_uid', 'VARCHAR(255)', 1, None, 0)\n",
      "(3, '_password', 'VARCHAR(255)', 1, None, 0)\n",
      "(4, '_dob', 'DATE', 0, None, 0)\n",
      "No uid Baz was not found in the table\n"
     ]
    }
   ],
   "source": [
    "# Menu, to run other cells from one control point\n",
    "def menu():\n",
    "    operation = input(\"Enter: (C)reate (R)ead (U)pdate or (D)elete or (S)chema\")\n",
    "    if operation.lower() == 'c':\n",
    "        create()\n",
    "    elif operation.lower() == 'r':\n",
    "        read()\n",
    "    elif operation.lower() == 'u':\n",
    "        update()\n",
    "    elif operation.lower() == 'd':\n",
    "        delete()\n",
    "    elif operation.lower() == 's':\n",
    "        schema()\n",
    "    elif len(operation)==0: # Escape Key\n",
    "        return\n",
    "    else:\n",
    "        print(\"Please enter c, r, u, or d\") \n",
    "    menu() # recursion, repeat menu\n",
    "        \n",
    "try:\n",
    "    menu() # start menu\n",
    "except:\n",
    "    print(\"Perform Jupyter 'Run All' prior to starting menu\")\n"
   ]
  },
  {
   "attachments": {},
   "cell_type": "markdown",
   "metadata": {},
   "source": [
    "# Hacks\n",
    "- Add this Blog to you own Blogging site.  In the Blog add notes and observations on each code cell.\n",
    "- In this implementation, do you see procedural abstraction?\n",
    "- In 2.4a or 2.4b lecture\n",
    "\n",
    "    - Do you see data abstraction?  Complement this with Debugging example.\n",
    "    You can see data abstraction within the code \n",
    "    - Use Imperative or OOP style to Create a new Table or do something that applies to your CPT project.\n",
    "    \n",
    "\n",
    "Reference... [sqlite documentation](https://www.sqlitetutorial.net/sqlite-python/creating-tables/)\n"
   ]
  },
  {
   "cell_type": "markdown",
   "metadata": {},
   "source": [
    "## Hacks\n",
    "Data Abstraction\n",
    "\n",
    "Data Abstraction is used in 2.4a, as it simplifies the representation of the whole database. Within the classes in the database, objects are used to simplify the data. Each aspect of the user, like name and uid, are an object. It is also apparent when the code is debugged. There are many class variables in local and global, and objects are used. \n",
    "\n"
   ]
  },
  {
   "cell_type": "code",
   "execution_count": 22,
   "metadata": {},
   "outputs": [],
   "source": [
    "# create a new SQLite database and establish a connection to it\n",
    "conn = sqlite3.connect('recipes.db')\n",
    "\n",
    "# create a new table called \"recipes\" with columns \"id\", \"name\", \"ingredients\", and \"instructions\"\n",
    "cursor = conn.cursor()\n",
    "cursor.execute('''CREATE TABLE recipes\n",
    "                  (id INTEGER PRIMARY KEY,\n",
    "                   name TEXT,\n",
    "                   ingredients TEXT,\n",
    "                   instructions TEXT)''')\n",
    "conn.commit()\n"
   ]
  },
  {
   "cell_type": "code",
   "execution_count": 4,
   "metadata": {},
   "outputs": [
    {
     "name": "stdout",
     "output_type": "stream",
     "text": [
      "What would you like to do?\n",
      "1. Create a new recipe\n",
      "2. Read all recipes\n",
      "3. Read a recipe by ID\n",
      "4. Update a recipe\n",
      "5. Delete a recipe\n",
      "6. Exit\n",
      "Recipe created successfully!\n",
      "What would you like to do?\n",
      "1. Create a new recipe\n",
      "2. Read all recipes\n",
      "3. Read a recipe by ID\n",
      "4. Update a recipe\n",
      "5. Delete a recipe\n",
      "6. Exit\n",
      "(3, 'fortnite', 'skill', 'get good bozo')\n",
      "What would you like to do?\n",
      "1. Create a new recipe\n",
      "2. Read all recipes\n",
      "3. Read a recipe by ID\n",
      "4. Update a recipe\n",
      "5. Delete a recipe\n",
      "6. Exit\n"
     ]
    }
   ],
   "source": [
    "import sqlite3\n",
    "\n",
    "# create a new SQLite database and establish a connection to it\n",
    "conn = sqlite3.connect('recipes.db')\n",
    "\n",
    "# define function to perform CRUD operations on the \"recipes\" table\n",
    "def create_recipe(conn, name, ingredients, instructions):\n",
    "    cursor = conn.cursor()\n",
    "    cursor.execute('''INSERT INTO recipes (name, ingredients, instructions)\n",
    "                      VALUES (?, ?, ?)''', (name, ingredients, instructions))\n",
    "    conn.commit()\n",
    "    print(\"Recipe created successfully!\")\n",
    "\n",
    "def read_all_recipes(conn):\n",
    "    cursor = conn.cursor()\n",
    "    cursor.execute('''SELECT * FROM recipes''')\n",
    "    rows = cursor.fetchall()\n",
    "    for row in rows:\n",
    "        print(row)\n",
    "\n",
    "def read_recipe_by_id(conn, id):\n",
    "    cursor = conn.cursor()\n",
    "    cursor.execute('''SELECT * FROM recipes WHERE id = ?''', (id,))\n",
    "    row = cursor.fetchone()\n",
    "    if row is not None:\n",
    "        print(row)\n",
    "    else:\n",
    "        print(\"Recipe not found.\")\n",
    "\n",
    "def update_recipe(conn, id, name, ingredients, instructions):\n",
    "    cursor = conn.cursor()\n",
    "    cursor.execute('''UPDATE recipes SET name = ?, ingredients = ?, instructions = ?\n",
    "                      WHERE id = ?''', (name, ingredients, instructions, id))\n",
    "    conn.commit()\n",
    "    print(\"Recipe updated successfully!\")\n",
    "\n",
    "def delete_recipe(conn, id):\n",
    "    cursor = conn.cursor()\n",
    "    cursor.execute('''DELETE FROM recipes WHERE id = ?''', (id,))\n",
    "    conn.commit()\n",
    "    print(\"Recipe deleted successfully!\")\n",
    "\n",
    "# prompt user for CRUD operation and inputs\n",
    "while True:\n",
    "    print(\"What would you like to do?\")\n",
    "    print(\"1. Create a new recipe\")\n",
    "    print(\"2. Read all recipes\")\n",
    "    print(\"3. Read a recipe by ID\")\n",
    "    print(\"4. Update a recipe\")\n",
    "    print(\"5. Delete a recipe\")\n",
    "    print(\"6. Exit\")\n",
    "\n",
    "    choice = input(\"Enter your choice (1-6): \")\n",
    "\n",
    "    if choice == '1':\n",
    "        name = input(\"Enter the recipe name: \")\n",
    "        ingredients = input(\"Enter the recipe ingredients: \")\n",
    "        instructions = input(\"Enter the recipe instructions: \")\n",
    "        create_recipe(conn, name, ingredients, instructions)\n",
    "\n",
    "    elif choice == '2':\n",
    "        read_all_recipes(conn)\n",
    "\n",
    "    elif choice == '3':\n",
    "        id = input(\"Enter the recipe ID: \")\n",
    "        read_recipe_by_id(conn, id)\n",
    "\n",
    "    elif choice == '4':\n",
    "        id = input(\"Enter the recipe ID: \")\n",
    "        name = input(\"Enter the new recipe name: \")\n",
    "        ingredients = input(\"Enter the new recipe ingredients: \")\n",
    "        instructions = input(\"Enter the new recipe instructions: \")\n",
    "        update_recipe(conn, id, name, ingredients, instructions)\n",
    "\n",
    "    elif choice == '5':\n",
    "        id = input(\"Enter the recipe ID: \")\n",
    "        delete_recipe(conn, id)\n",
    "\n",
    "    elif choice == '6':\n",
    "        print(\"Goodbye!\")\n",
    "        break\n",
    "\n",
    "    else:\n",
    "        print(\"Invalid choice. Please try again.\")\n"
   ]
  }
 ],
 "metadata": {
  "kernelspec": {
   "display_name": "Python 3.9.13 ('base')",
   "language": "python",
   "name": "python3"
  },
  "language_info": {
   "codemirror_mode": {
    "name": "ipython",
    "version": 3
   },
   "file_extension": ".py",
   "mimetype": "text/x-python",
   "name": "python",
   "nbconvert_exporter": "python",
   "pygments_lexer": "ipython3",
   "version": "3.9.13"
  },
  "orig_nbformat": 4,
  "vscode": {
   "interpreter": {
    "hash": "40d3a090f54c6569ab1632332b64b2c03c39dcf918b08424e98f38b5ae0af88f"
   }
  }
 },
 "nbformat": 4,
 "nbformat_minor": 2
}
