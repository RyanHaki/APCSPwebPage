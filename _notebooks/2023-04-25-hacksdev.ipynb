{
 "cells": [
  {
   "cell_type": "markdown",
   "metadata": {},
   "source": [
    "#  Dev Ops Hacks\n",
    "> Observe an algorithm using parallel computing in Python Code.  Monitor processes on host.\n",
    "- toc: true\n",
    "- categories: []\n",
    "- week: 31"
   ]
  },
  {
   "cell_type": "markdown",
   "metadata": {},
   "source": [
    "### Kasm Hacks:\n",
    "\n",
    "Virtual desktops allow users to access a complete operating system and applications hosted on a remote server from any device with an internet connection. KASM is a security solution that ensures the virtual desktop environment is protected from malware and other cyber threats. In the AP CSP environment, virtual desktops can provide students with a consistent and secure computing experience, regardless of the hardware and software they have access to at home or school.\n",
    "\n",
    "![image](https://user-images.githubusercontent.com/111466991/234715378-4ee33fe8-7c83-4cea-8ea3-685e9f40d334.png)\n"
   ]
  },
  {
   "cell_type": "markdown",
   "metadata": {},
   "source": [
    "## AWS DataBase Hacks"
   ]
  },
  {
   "cell_type": "markdown",
   "metadata": {},
   "source": [
    "### Quiz 1\n",
    " \n",
    " 1. C\n",
    " 2. A\n",
    " 3. C\n",
    "\n",
    "### Quiz 2 \n",
    "\n",
    "1. C\n",
    "2. D\n",
    "3. C"
   ]
  },
  {
   "cell_type": "markdown",
   "metadata": {},
   "source": [
    "## DuckDNS and AWS Hacks"
   ]
  },
  {
   "cell_type": "markdown",
   "metadata": {},
   "source": [
    "1. Diagram of pros and cons of DuckDNS \n",
    "\n",
    "![image](https://github.com/RyanHaki/APCSPwebPage/blob/master/images/Screenshot 2023-04-26 at 8.45.11 PM.png?raw=true)"
   ]
  },
  {
   "cell_type": "markdown",
   "metadata": {},
   "source": [
    "2. Reflection\n",
    "DNS is used to translate human-readable domain names to machine-readable IP addresses. DuckDNS is a free dynamic DNS service that assigns a domain name to a home network's public IP address. It is useful for projects that require remote access and is easy to set up by creating an account, running the client, and configuring the router.\n",
    "\n"
   ]
  },
  {
   "cell_type": "markdown",
   "metadata": {},
   "source": [
    "4. One outdated Nginx/Docker functionality that may need to be addressed is the use of the deprecated \"docker run\" command, which has been replaced by \"docker container run\". Additionally, outdated Nginx/Docker configurations may include insecure SSL protocols and ciphers, which can compromise security and should be updated to use modern and secure options.\n",
    "\n",
    "\n",
    "\n",
    "\n"
   ]
  },
  {
   "cell_type": "markdown",
   "metadata": {},
   "source": [
    "5. Venn Diagram \n",
    "![image](https://github.com/RyanHaki/APCSPwebPage/blob/master/images/Screenshot 2023-04-26 at 8.45.35 PM.png?raw=true)"
   ]
  },
  {
   "cell_type": "code",
   "execution_count": 2,
   "metadata": {},
   "outputs": [
    {
     "name": "stdout",
     "output_type": "stream",
     "text": [
      "Hello, ryanhakimipour running /usr/local/opt/python@3.10/bin/python3.10\n",
      "You will be asked 11 questions.\n",
      "Are you ready to take a test! Press Enter key to begin. Best of luck :)\n",
      "Question 1 : What does Domain Name Server represent?\n",
      "DNS is correct! Good Job!\n",
      "Question 2 : What does this Represent: Amazon Web Services, which is a cloud computing platform provided by Amazon.\n",
      "AWS is correct! Good Job!\n",
      "Question 3 : What is the first Step to setting up an AWS Server? 1: Connecting to a Ubuntu EC2 Instance, 2: Start updating the system, 3: Clone the repository which one wishes to deploy, 4: Run the command: main.py to start the project\n",
      "1 is correct! Good Job!\n",
      "Question 4 : What is the third Step to setting up an AWS Server? 1: Connecting to a Ubuntu EC2 Instance, 2: Start updating the system, 3: Clone the repository which one wishes to deploy, 4: Run the command: main.py to start the project\n",
      "3 is correct! Good Job!\n",
      "Question 5 : What is the fourth Step to setting up an AWS Server? 1: Connecting to a Ubuntu EC2 Instance, 2: Start updating the system, 3: Clone the repository which one wishes to deploy, 4: Run the command: main.py to start the project\n",
      "4 is incorrect! Better Luck next time.\n",
      "Question 6 : What is the second Step to setting up an AWS Server? 1: Connecting to a Ubuntu EC2 Instance, 2: Start updating the system, 3: Clone the repository which one wishes to deploy, 4: Run the command: main.py to start the project\n",
      "2 is correct! Good Job!\n",
      "Question 7 : What files are you supposed to edit after finishing the first steps of setting up the server and cloning it within the AWS Server? 1: Edit the docker files and docker.yml, 2: Edit the main.py file to change the characteristcs.\n",
      "1 is correct! Good Job!\n",
      "Question 8 : What is the first step to setting up a DuckDNS Server? 1: Sign in with your DuckDNS account using Github, 2: Configure current ip to the IP address that you want to access and click update ip button , 3: Create the subdomain, 4: Access site by typing in subdomain.duckdns.org\n",
      "1 is correct! Good Job!\n",
      "Question 9 : What is the second step to setting up a DuckDNS Server? 1: Sign in with your DuckDNS account using Github, 2: Configure current ip to the IP address that you want to access and click update ip button , 3: Create the subdomain, 4: Access site by typing in subdomain.duckdns.org\n",
      "3 is correct! Good Job!\n",
      "Question 10 : What is the third step to setting up a DuckDNS Server? 1: Sign in with your DuckDNS account using Github, 2: Configure current ip to the IP address that you want to access and click update ip button , 3: Create the subdomain, 4: Access site by typing in subdomain.duckdns.org\n",
      "2 is correct! Good Job!\n",
      "Question 11 : What is the fourth step to setting up a DuckDNS Server? 1: Sign in with your DuckDNS account using Github, 2: Configure current ip to the IP address that you want to access and click update ip button , 3: Create the subdomain, 4: Access site by typing in subdomain.duckdns.org\n",
      "4 is correct! Good Job!\n",
      "ryanhakimipour you scored 10/11\n",
      "Total Percentage: 90.91%\n"
     ]
    }
   ],
   "source": [
    "import getpass, sys\n",
    "\n",
    "# method to display question and get user's answers\n",
    "def question_with_response(prompt, qCount):\n",
    "    print(\"Question \" + str(qCount)  + \" : \" + prompt)\n",
    "    msg = input()\n",
    "    return msg\n",
    "\n",
    "# dictionary to hold questions and answers as key : value pairs\n",
    "questionsDict = {\"What does Domain Name Server represent?\": \"DNS\",\n",
    "    \"What does this Represent: Amazon Web Services, which is a cloud computing platform provided by Amazon.\": \"AWS\", \n",
    "    \"What is the first Step to setting up an AWS Server? 1: Connecting to a Ubuntu EC2 Instance, 2: Start updating the system, 3: Clone the repository which one wishes to deploy, 4: Run the command: main.py to start the project\": \"1\",\n",
    "    \"What is the third Step to setting up an AWS Server? 1: Connecting to a Ubuntu EC2 Instance, 2: Start updating the system, 3: Clone the repository which one wishes to deploy, 4: Run the command: main.py to start the project\": \"3\",\n",
    "    \"What is the fourth Step to setting up an AWS Server? 1: Connecting to a Ubuntu EC2 Instance, 2: Start updating the system, 3: Clone the repository which one wishes to deploy, 4: Run the command: main.py to start the project\": \".4\",\n",
    "    \"What is the second Step to setting up an AWS Server? 1: Connecting to a Ubuntu EC2 Instance, 2: Start updating the system, 3: Clone the repository which one wishes to deploy, 4: Run the command: main.py to start the project\": \"2\",\n",
    "    \"What files are you supposed to edit after finishing the first steps of setting up the server and cloning it within the AWS Server? 1: Edit the docker files and docker.yml, 2: Edit the main.py file to change the characteristcs.\": \"1\",\n",
    "    \"What is the first step to setting up a DuckDNS Server? 1: Sign in with your DuckDNS account using Github, 2: Configure current ip to the IP address that you want to access and click update ip button , 3: Create the subdomain, 4: Access site by typing in subdomain.duckdns.org\": \"1\",\n",
    "    \"What is the second step to setting up a DuckDNS Server? 1: Sign in with your DuckDNS account using Github, 2: Configure current ip to the IP address that you want to access and click update ip button , 3: Create the subdomain, 4: Access site by typing in subdomain.duckdns.org\": \"3\",\n",
    "    \"What is the third step to setting up a DuckDNS Server? 1: Sign in with your DuckDNS account using Github, 2: Configure current ip to the IP address that you want to access and click update ip button , 3: Create the subdomain, 4: Access site by typing in subdomain.duckdns.org\": \"2\",\n",
    "    \"What is the fourth step to setting up a DuckDNS Server? 1: Sign in with your DuckDNS account using Github, 2: Configure current ip to the IP address that you want to access and click update ip button , 3: Create the subdomain, 4: Access site by typing in subdomain.duckdns.org\": \"4\"\n",
    "}\n",
    "\n",
    "# number of questions as length of the dictionary\n",
    "questions = len(questionsDict)\n",
    "\n",
    "# set correct to 0\n",
    "correct = 0\n",
    "\n",
    "\n",
    "print('Hello, ' + getpass.getuser() + \" running \" + sys.executable)\n",
    "print(\"You will be asked \" + str(questions) + \" questions.\")\n",
    "print(\"Are you ready to take a test! Press Enter key to begin. Best of luck :)\")\n",
    "input()\n",
    "\n",
    "questionCount = 0\n",
    "# iterate over list of keys from the dictionary. pass dictionary key as question to the question_with_response function\n",
    "for key in questionsDict:\n",
    "    questionCount += 1\n",
    "    rsp = question_with_response(key, questionCount)\n",
    "    # compare the value from the dictionary to the user's input\n",
    "    if rsp.lower() == questionsDict[key].lower():\n",
    "        print(rsp + \" is correct! Good Job!\")\n",
    "        correct += 1\n",
    "    else:\n",
    "        print(rsp + \" is incorrect! Better Luck next time.\")\n",
    "\n",
    "# print final score    \n",
    "print(getpass.getuser() + \" you scored \" + str(correct) +\"/\" + str(questions))\n",
    "\n",
    "# calculate percentage\n",
    "page = correct/questions * 100\n",
    "\n",
    "# print percentage\n",
    "\n",
    "\n",
    "print(\"Total Percentage: \" + str (format(page,\".2f\")) + \"%\")"
   ]
  },
  {
   "cell_type": "markdown",
   "metadata": {},
   "source": [
    "## CertBot Hacks"
   ]
  },
  {
   "cell_type": "markdown",
   "metadata": {},
   "source": [
    "1. I couldn't get the sudo certbot command to work\n",
    "2. OpenSSL and LibreSSL are both open-source cryptographic libraries that offer similar security features such as support for a wide range of cryptographic algorithms and functions for secure random number generation, SSL/TLS protocol implementation, and X.509 certificate handling. One main difference is that LibreSSL aims to modernize OpenSSL by removing deprecated features and adding new security features. Both have had recent high-severity vulnerabilities, but patches were quickly released to fix them.\n",
    "\n",
    "\n",
    "\n",
    "\n"
   ]
  }
 ],
 "metadata": {
  "kernelspec": {
   "display_name": "Python 3.10.9 64-bit",
   "language": "python",
   "name": "python3"
  },
  "language_info": {
   "codemirror_mode": {
    "name": "ipython",
    "version": 3
   },
   "file_extension": ".py",
   "mimetype": "text/x-python",
   "name": "python",
   "nbconvert_exporter": "python",
   "pygments_lexer": "ipython3",
   "version": "3.10.9"
  },
  "orig_nbformat": 4,
  "vscode": {
   "interpreter": {
    "hash": "aee8b7b246df8f9039afb4144a1f6fd8d2ca17a180786b69acc140d282b71a49"
   }
  }
 },
 "nbformat": 4,
 "nbformat_minor": 2
}
