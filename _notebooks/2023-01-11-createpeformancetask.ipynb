{
 "cells": [
  {
   "cell_type": "markdown",
   "metadata": {},
   "source": [
    "## Create Performance Task\n",
    "- title: Create Performance Task\n"
   ]
  },
  {
   "cell_type": "markdown",
   "metadata": {},
   "source": [
    "---"
   ]
  },
  {
   "cell_type": "markdown",
   "metadata": {},
   "source": [
    "### Submission 1"
   ]
  },
  {
   "cell_type": "markdown",
   "metadata": {},
   "source": [
    "| Reporting Catergory |Student Score |College Board score | Comments|\n",
    "|----|----|-----|-----|\n",
    "|Program Purpose and Function| 0 | 0 | The response did not earn the point for this row. The response met three of the six criteria |\n",
    "|Data Abstraction| 0 | 0 | The response did not earn the point for this row, meeting one of the three criteria |\n",
    "|Managing Complexity| 0 | 0 |The response did not earn the point for this row, meeting none of the two criteria |\n",
    "|Procedural Abstraction | 0 | 0 |The response did not earn the point for this row, meeting one of the two criteria |\n",
    "|Algorithm Implementation| 0 | 0 |The response did not earn the point for this row, meeting one of the two criteria | \n",
    "| Testing| 1 | 1 |The response earned the point for this row, meeting all of the three criteria |"
   ]
  },
  {
   "cell_type": "markdown",
   "metadata": {},
   "source": [
    "---"
   ]
  },
  {
   "cell_type": "markdown",
   "metadata": {},
   "source": [
    "### Submission 2"
   ]
  },
  {
   "cell_type": "markdown",
   "metadata": {},
   "source": [
    "| Reporting Catergory |Student Score |College Board score | Comments|\n",
    "|----|----|-----|-----|\n",
    "|Program Purpose and Function| 1 | 1 | The response earned the point for this row. The response met all six criteria |\n",
    "|Data Abstraction| 1 | 1 | The response earned the point for this row, meeting all three criteria |\n",
    "|Managing Complexity| 1 | 1 | The response earned the point for this row, meeting both of the two criteria.|\n",
    "|Procedural Abstraction | 1 | 1 | The response earned the point for this row, meeting the two criteria|\n",
    "|Algorithm Implementation| 1 | 1 |The response earned the point for this row, meeting both of the two criteria| \n",
    "| Testing| 1 | 1 |The response earned the point for this row, meeting all three of the three criteria |"
   ]
  },
  {
   "cell_type": "markdown",
   "metadata": {},
   "source": [
    "---"
   ]
  },
  {
   "cell_type": "markdown",
   "metadata": {},
   "source": [
    "### Submission 3"
   ]
  },
  {
   "cell_type": "markdown",
   "metadata": {},
   "source": [
    "| Reporting Catergory |Student Score |College Board score | Comments|\n",
    "|----|----|-----|-----|\n",
    "|Program Purpose and Function| 0 | 0 | The response did not earn the point for this row, meeting five of the six criteria |\n",
    "|Data Abstraction| 1 | 1 | The response earned the point for this row, meeting all three criteria |\n",
    "|Managing Complexity| 1 | 1 | The response earned the point for this row, meeting both criteria|\n",
    "|Procedural Abstraction | 1 | 1 | The response earned the point for this row, meeting both criteria |\n",
    "|Algorithm Implementation| 1 | 1 | The response earned the point for this row, meeting both of the criteria| \n",
    "| Testing| 1 | 1 |The response earned the point for this row, meeting all three criteria |"
   ]
  },
  {
   "cell_type": "markdown",
   "metadata": {},
   "source": [
    "---"
   ]
  },
  {
   "cell_type": "markdown",
   "metadata": {},
   "source": [
    "### Submission 4"
   ]
  },
  {
   "cell_type": "markdown",
   "metadata": {},
   "source": [
    "| Reporting Catergory |Student Score |College Board score | Comments|\n",
    "|----|----|-----|-----|\n",
    "|Program Purpose and Function| 1 | 1 | The response earned the point for this row. The response met all of the six criteria |\n",
    "|Data Abstraction| 0 | 0 | The response did not earn the point for this row, meeting two of the three criteria |\n",
    "|Managing Complexity| 0 | 0 | The response did not earn the point for this row, meeting neither of the two criteria |\n",
    "|Procedural Abstraction | 1 | 1 | The response earned the point for this row, meeting both of the two criteria |\n",
    "|Algorithm Implementation| 1 | 1 | The response earned the point for this row, meeting both of the two criteria | \n",
    "| Testing| 0 | 0 | The response did not earn the point for this row, meeting two of the three criteria |"
   ]
  },
  {
   "cell_type": "markdown",
   "metadata": {},
   "source": [
    "---"
   ]
  },
  {
   "cell_type": "markdown",
   "metadata": {},
   "source": [
    "## What will be needed to fulfill all requirements"
   ]
  },
  {
   "cell_type": "markdown",
   "metadata": {},
   "source": [
    "- Clear answers that respond to ONLY what is being asked of.\n",
    "- Clear answers that are detailed and specific to what is being asked.\n",
    "- An input that results in the program’s output\n",
    "- Explain and show how the input leads to an output\n",
    "- Have a list or lists that serve more than just holding data.\n",
    "- Be able to explain algorithms inside your code without explaining other parts that don’t affect that algorithm."
   ]
  },
  {
   "cell_type": "markdown",
   "metadata": {},
   "source": [
    "## Failed to meet the standards"
   ]
  },
  {
   "cell_type": "markdown",
   "metadata": {},
   "source": [
    "If a submission fails to meet the standard, it is likely because the purpose of a list, code segments, or the entire program was not properly explained, or the functionality of the program was not described. Simply defining the program's function is not enough; a clear, step-by-step process explaining how to recreate one of the code segments must be provided in order to show coding skills and earn a point for that category."
   ]
  }
 ],
 "metadata": {
  "kernelspec": {
   "display_name": "Python 3.9.6 64-bit",
   "language": "python",
   "name": "python3"
  },
  "language_info": {
   "name": "python",
   "version": "3.9.6"
  },
  "orig_nbformat": 4,
  "vscode": {
   "interpreter": {
    "hash": "31f2aee4e71d21fbe5cf8b01ff0e069b9275f58929596ceb00d14d90e3e16cd6"
   }
  }
 },
 "nbformat": 4,
 "nbformat_minor": 2
}
