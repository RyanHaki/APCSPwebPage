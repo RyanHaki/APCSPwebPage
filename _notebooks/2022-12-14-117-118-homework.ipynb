{
 "cells": [
  {
   "attachments": {},
   "cell_type": "markdown",
   "metadata": {},
   "source": [
    "# 3.17 - 3.18\n",
    "- title: Homework 3.17 - 3.18\n",
    "- permalink: /homework1718"
   ]
  },
  {
   "attachments": {},
   "cell_type": "markdown",
   "metadata": {},
   "source": [
    "# 3.17 Algorithmic Efficiency"
   ]
  },
  {
   "attachments": {},
   "cell_type": "markdown",
   "metadata": {},
   "source": [
    "## Vocabulary\n",
    "- Problem:a general description of a task that can or cannot be solved algorithmically\n",
    "    - Decision Problem: A problem with a yes or no answer\n",
    "    - Organization Problem: a problem with a goal of finding the best answer\n",
    "- Instance:a problem with a specific input\n",
    "- Efficiency: amount of computing needed to solve a problem\n",
    "    - Polynomial Efficiency (Good): more work takes a proportional amount of time (1 job is +2 time)\n",
    "    - Exponential Efficiency (Bad): more work takes an exponential amount more time (1 job is 2x time)\n",
    "- Heuristic Approach: When optimal solutions are inefficient, look for a possibly optimal solution that is more efficient\n",
    "- Decidable Problem:  A decision problem that has a clear solution that will always make a correct output\n",
    "- Undecidable Problem: A decision problem with no solution that is not gaurenteed to produce the correct output\n"
   ]
  },
  {
   "attachments": {},
   "cell_type": "markdown",
   "metadata": {},
   "source": [
    "## Notes\n",
    "### Algorithmic Efficiency:\n",
    "\n",
    "- Algorithmic efficiency is the measure of how effectively an algorithm solves a given problem, in terms of the amount of resources (time and space) the algorithm requires to complete the task.\n",
    "\n",
    "- Algorithms can be judged on the basis of their time and space complexity. Time complexity refers to the amount of time taken by the algorithm to complete its task. Space complexity is the amount of memory or space required by the algorithm to complete its task.\n",
    "\n",
    "- Algorithms with better time and space complexity are considered to be more efficient than those with lesser efficiency.\n",
    "\n",
    "- Algorithms can be further compared on the basis of their algorithmic complexity, which measures the number of steps required to solve the problem.\n",
    "\n",
    "- Different algorithms can be compared by measuring the number of operations they require to solve a problem.\n",
    "\n",
    "- Algorithms can also be evaluated based on their scalability, which measures how easily an algorithm can be adapted for different input sizes.\n",
    "\n"
   ]
  },
  {
   "attachments": {},
   "cell_type": "markdown",
   "metadata": {},
   "source": [
    "## Challenge\n",
    "Try and fix this ineficcient code!\n",
    "Only change the code between the two commented lines.\n",
    "Fully programmed solution will improve your grade, at a minimum show that you tried."
   ]
  },
  {
   "cell_type": "code",
   "execution_count": 14,
   "metadata": {},
   "outputs": [
    {
     "name": "stdout",
     "output_type": "stream",
     "text": [
      "0.6657416820526123 seconds\n"
     ]
    }
   ],
   "source": [
    "import time\n",
    "numlist = [1,3,5,7,9,11,13,15,17,19]\n",
    "valuelist = [0,3,6,9,12,15,18,21]\n",
    "def isvalue(value,array):\n",
    "    #--------------------\n",
    "    exists = False\n",
    "    while exists == False:\n",
    "        for i in range(len(array)):\n",
    "            if value == array[i]:\n",
    "                exists = True\n",
    "        if exists == False:\n",
    "            return exists\n",
    "    return exists\n",
    "    #--------------------\n",
    "starttime = time.time()\n",
    "for i in range(100000):\n",
    "    for i in range(len(valuelist)):\n",
    "        x = isvalue(valuelist[i],numlist)\n",
    "endtime = time.time()\n",
    "print(endtime-starttime,'seconds') "
   ]
  },
  {
   "cell_type": "markdown",
   "metadata": {},
   "source": [
    "### My Attempt "
   ]
  },
  {
   "cell_type": "code",
   "execution_count": 7,
   "metadata": {},
   "outputs": [
    {
     "name": "stdout",
     "output_type": "stream",
     "text": [
      "0.2539968490600586 seconds\n"
     ]
    }
   ],
   "source": [
    "import time\n",
    "numlist = [1,3,5,7,9,11,13,15,17,19]\n",
    "valuelist = [0,3,6,9,12,15,18,21]\n",
    "def isvalue(value,array):\n",
    "    #--------------------\n",
    "    if value in array:\n",
    "        return True\n",
    "    else:\n",
    "        return False\n",
    "    #--------------------\n",
    "starttime = time.time()\n",
    "for i in range(100000):\n",
    "    for i in range(len(valuelist)):\n",
    "        x = isvalue(valuelist[i],numlist)\n",
    "endtime = time.time()\n",
    "print(endtime-starttime,'seconds')"
   ]
  },
  {
   "attachments": {},
   "cell_type": "markdown",
   "metadata": {},
   "source": [
    "# 3.18 Undecidable Problems"
   ]
  },
  {
   "attachments": {},
   "cell_type": "markdown",
   "metadata": {},
   "source": [
    "## Notes\n",
    "\n",
    "### Undecidable Problems\n",
    "\n",
    "- Python Undecidable Problem is a type of problem that can not be solved by any algorithm or set of instructions. It is impossible to determine if a given problem can be solved or not, even with unlimited resources and time. \n",
    "\n",
    "- Examples of undecidable problems include the Halting Problem, which is to determine whether a given program will run forever or not, the Entscheidungsproblem, which is a decision problem relating to the existence of effectively calculable functions, and the Post Correspondence Problem, which is to determine whether two given sequences of symbols can be matched in a certain way.\n",
    "\n",
    "- Undecidable problems are of particular interest in computer science because they serve as a limitation to the power of computers. Even though computers are capable of solving a vast array of problems, there are still some that are impossible to solve. \n",
    "\n",
    "- While undecidable problems can not be solved, there are methods for approximating their solutions. These methods include heuristics, genetic algorithms, and machine learning."
   ]
  },
  {
   "attachments": {},
   "cell_type": "markdown",
   "metadata": {},
   "source": [
    "# Homework!\n",
    "\n",
    "Make an algorithm that finds the fastest route that hits every location once starting and ending at Del Norte. Make sure to show your thinking. If you are strugling, try using a huristic approach. Remember, what matters more than having perfectly functioning code is that you tried your hardest."
   ]
  },
  {
   "cell_type": "code",
   "execution_count": 3,
   "metadata": {},
   "outputs": [],
   "source": [
    "dataset = {\n",
    "    'DelNorte':{\n",
    "        'Westview':15,\n",
    "        'MtCarmel':20,\n",
    "        'Poway':35,\n",
    "        'RanchoBernardo':50\n",
    "    },\n",
    "    'Westview':{\n",
    "        'DelNorte':15,\n",
    "        'MtCarmel':35,\n",
    "        'Poway':25,\n",
    "        'RanchoBernardo': 45\n",
    "    },\n",
    "    'MtCarmel':{\n",
    "        'Westview':35,\n",
    "        'DelNorte':20,\n",
    "        'Poway':40,\n",
    "        'RanchoBernardo':30\n",
    "    },\n",
    "    'Poway':{\n",
    "        'Westview':25,\n",
    "        'MtCarmel':40,\n",
    "        'DelNorte':35,\n",
    "        'RanchoBernardo':15\n",
    "    },\n",
    "    'RanchoBernardo':{\n",
    "        'Westview':45,\n",
    "        'MtCarmel':30,\n",
    "        'Poway':15,\n",
    "        'DelNorte':50\n",
    "    }\n",
    "}"
   ]
  },
  {
   "cell_type": "code",
   "execution_count": 21,
   "metadata": {},
   "outputs": [
    {
     "name": "stdout",
     "output_type": "stream",
     "text": [
      "1. DelNorte\n",
      "2. Westview\n",
      "3. Poway\n",
      "4. RanchoBernardo\n",
      "5. MtCarmel\n",
      "6. DelNorte\n",
      "Time: 85 minutes\n"
     ]
    }
   ],
   "source": [
    "def fastestroute(start, data):\n",
    "    drivetime = 0\n",
    "    order = [start]\n",
    "    temploc = \"\"\n",
    "    for i in range(len(data) - 1):\n",
    "        minimum_time = 10000\n",
    "        for loc, time in data[order[(len(order) - 1)]].items():\n",
    "            if time < minimum_time and loc not in order:\n",
    "                temploc = loc\n",
    "                minimum_time = time\n",
    "        drivetime += minimum_time\n",
    "        order.append(temploc)\n",
    "    order.append(start)\n",
    "    return (drivetime, order)\n",
    "\n",
    "start = 'DelNorte'\n",
    "results = fastestroute(start, dataset)\n",
    "for i, location in enumerate(results[1]):\n",
    "    print(str(i + 1) + \".\", location)\n",
    "print(\"Time:\", results[0], \"minutes\")\n",
    "#This code finds the fastest route between two locations based on the given dataset. It takes the starting location as an argument and adds it to the order list. The loop then iterates through the dataset, finds the location with the least amount of drive time, and adds it to the order list. The drive time is updated each time a new location is added. The loop ends when the starting location is reached again and the results are printed."
   ]
  },
  {
   "cell_type": "markdown",
   "metadata": {},
   "source": []
  },
  {
   "attachments": {},
   "cell_type": "markdown",
   "metadata": {},
   "source": [
    "### Grading:\n",
    "|Challenge|Homework|\n",
    "|---|---|\n",
    "|.15 pts for attempt|.65 for attempt|\n",
    "|.20 pts for complete|.70 for complete|\n",
    "|.25 pts for above and beyond|.75 pts for above and beyond|\n"
   ]
  }
 ],
 "metadata": {
  "kernelspec": {
   "display_name": "Python 3.9.6 64-bit",
   "language": "python",
   "name": "python3"
  },
  "language_info": {
   "codemirror_mode": {
    "name": "ipython",
    "version": 3
   },
   "file_extension": ".py",
   "mimetype": "text/x-python",
   "name": "python",
   "nbconvert_exporter": "python",
   "pygments_lexer": "ipython3",
   "version": "3.9.6"
  },
  "orig_nbformat": 4,
  "vscode": {
   "interpreter": {
    "hash": "31f2aee4e71d21fbe5cf8b01ff0e069b9275f58929596ceb00d14d90e3e16cd6"
   }
  }
 },
 "nbformat": 4,
 "nbformat_minor": 2
}
