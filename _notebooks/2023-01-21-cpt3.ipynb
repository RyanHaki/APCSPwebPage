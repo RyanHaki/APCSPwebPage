{
 "cells": [
  {
   "cell_type": "markdown",
   "metadata": {},
   "source": [
    "## Create Performance Task\n",
    " Create Performance Task"
   ]
  },
  {
   "cell_type": "markdown",
   "metadata": {},
   "source": [
    "---"
   ]
  },
  {
   "cell_type": "markdown",
   "metadata": {},
   "source": [
    "### Submission 1"
   ]
  },
  {
   "cell_type": "markdown",
   "metadata": {},
   "source": [
    "| Reporting Catergory |Student Score |College Board score | Comments|\n",
    "|----|----|-----|-----|\n",
    "|Program Purpose and Function|  1 | 1 | I rated this component a 1 because the explanation provided insight into the program's operation and purpose, without simply repeating its function.|\n",
    "|Data Abstraction| 0 | 0 | I assigned a score of 0 to this section because the second set of code does not utilize the list shown in the first segment, rendering the list ineffective in fulfilling the program's objectives. |\n",
    "|Managing Complexity| 0 | 0 | I assigned a score of 0 for this section because the list RPS is not relevant to the code presented in 3b. While the list is utilized in other sections of the code, it is not utilized in the specific section being evaluated and thus, the score is 0. |\n",
    "|Procedural Abstraction | 0| 0 | I assigned a score of 0 for this section because the response failed to explain the intended function or usefulness of the code segments in relation to the overall program. |\n",
    "|Algorithm Implementation| 1 | 1 | I assigned a rating of 1 for this section because it effectively explains the functioning of the program and the mechanisms that enable it to operate, including the utilization of sequencing, selection, and iteration.| \n",
    "| Testing| 1 | 1 | I rated this section a 1 because the output is different due to the use of different code segments, and the reader is not informed of which code segments were utilized.|"
   ]
  },
  {
   "cell_type": "markdown",
   "metadata": {},
   "source": [
    "---"
   ]
  },
  {
   "cell_type": "markdown",
   "metadata": {},
   "source": [
    "| Reporting Catergory |Student Score |College Board score | Comments|\n",
    "|----|----|-----|-----|\n",
    "|Program Purpose and Function| 1 |  1|I rated this section a 1 because it clearly outlined both the purpose and function and demonstrated the program's capabilities through the included video.  |\n",
    "|Data Abstraction| 1 | 1 | I assigned a rating of 1 to this component as it illustrates the functionality of a list within the program and demonstrates how it retrieves its data. |\n",
    "|Managing Complexity| 1 | 1 |I assigned a score of 1 for this component because it serves as a tool for keeping track of the letters in the unidentified word. |\n",
    "|Procedural Abstraction | 1| 1 |I assigned a rating of 1 to this component as it satisfies the specified requirements and the accompanying explanation clarifies the function of this section of the code. |\n",
    "|Algorithm Implementation|  1| 1 | I assigned a rating of 1 to this section because it explains the function of the program and the elements that make it operational. It also covers the implementation of sequencing, selection, and iteration in the program.| \n",
    "| Testing| 1| 1 | I assigned a rating of 1 to this section because the distinct inputs of 1 and h were processed through separate code sections, resulting in distinct outputs and indicating to the reader which code section was utilized.|"
   ]
  },
  {
   "cell_type": "markdown",
   "metadata": {},
   "source": [
    "---"
   ]
  },
  {
   "cell_type": "markdown",
   "metadata": {},
   "source": [
    "| Reporting Catergory |Student Score |College Board score | Comments|\n",
    "|----|----|-----|-----|\n",
    "|Program Purpose and Function| 1 | 1 | I rated this section a 1 due to the inclusion of both the intended purpose and a concise overview of its function. |\n",
    "|Data Abstraction| 0 | 0 | I assigned a score of 0 to this section because the specified list that was supposed to be utilized is not visible in the initial segment of the code. |\n",
    "|Managing Complexity| 0 |0  |I assigned a score of 0 to this section because the argument that using a list simplifies the code is not a valid justification for including one. |\n",
    "|Procedural Abstraction | 0| 0 |I awarded a score of 0 for this section because the function specified in the initial code is not utilized in the subsequent code. |\n",
    "|Algorithm Implementation| 0 | 0 | I awarded a score of 0 for this section because it fails to provide any insight into what prompts the program to execute actions beyond the utilization of if statements.| \n",
    "| Testing| 0| 0 |I assigned a score of 0 for this section because the two tests are performed using distinct methods and only invoke another method without established parameters.|"
   ]
  },
  {
   "cell_type": "markdown",
   "metadata": {},
   "source": [
    "---"
   ]
  },
  {
   "cell_type": "markdown",
   "metadata": {},
   "source": [
    "| Reporting Catergory |Student Score |College Board score | Comments|\n",
    "|----|----|-----|-----|\n",
    "|Program Purpose and Function| 1 | 1 | I rated this section a 1 because it clearly explains the purpose and provides a brief overview of its function. Additionally, the response includes instructions on how to play.|\n",
    "|Data Abstraction| 1 | 1 | I rated this section a 1 because it demonstrates how the code creates a list, its functionality, and how it relates to the rest of the program. |\n",
    "|Managing Complexity| 1 |1  |I assigned a 1 to this section because it illustrates the significance of the list in showcasing the ultimate scores. |\n",
    "|Procedural Abstraction | 1| 1 | I awarded this section a 1 as it satisfies the necessary criteria and the explanation provided indicates that its purpose is to increase the difficulty level of the game.|\n",
    "|Algorithm Implementation| 1 | 1 |I assigned a rating of 1 to this section because it provides a clear explanation of the program's functionality and the specific code that makes it work. The section also covers the use of sequencing, selection, and iteration through the implementation of if-else statements and loops. | \n",
    "| Testing| 0 | 0 | I assigned a score of 0 for this component because the testing calls lack defined parameters, as they only consist of lines from the code rather than actual values.|"
   ]
  },
  {
   "cell_type": "markdown",
   "metadata": {},
   "source": [
    "---"
   ]
  },
  {
   "cell_type": "markdown",
   "metadata": {},
   "source": [
    "## What will be needed to fulfill all requirements"
   ]
  },
  {
   "cell_type": "markdown",
   "metadata": {},
   "source": [
    "- Provide concise responses that directly address the question at hand. \n",
    "- Offer detailed and specific information related to the question. \n",
    "- Demonstrate the connection between the input and the program's output. \n",
    "- Describe and demonstrate how the input leads to the output. \n",
    "- Utilize lists that serve a purpose beyond just storing data. \n",
    "- Clearly explain the algorithms within your code without including unnecessary information that does not pertain to the algorithm.\n",
    "\n",
    "\n",
    "\n"
   ]
  },
  {
   "cell_type": "markdown",
   "metadata": {},
   "source": [
    "## Failed to meet the standards"
   ]
  },
  {
   "cell_type": "markdown",
   "metadata": {},
   "source": [
    "In these four instances, a submission is likely to fall short of the standard if it does not clearly explain the purpose of lists, code segments, or the overall program, or if it does not describe how the program operates. It is important to note that defining a program's function is distinct from outlining its purpose. Additionally, a thorough understanding of the code is necessary in order to effectively incorporate it into the response and earn points.\n",
    "\n",
    "\n",
    "\n"
   ]
  }
 ],
 "metadata": {
  "kernelspec": {
   "display_name": "Python 3.9.6 64-bit",
   "language": "python",
   "name": "python3"
  },
  "language_info": {
   "name": "python",
   "version": "3.9.6"
  },
  "orig_nbformat": 4,
  "vscode": {
   "interpreter": {
    "hash": "31f2aee4e71d21fbe5cf8b01ff0e069b9275f58929596ceb00d14d90e3e16cd6"
   }
  }
 },
 "nbformat": 4,
 "nbformat_minor": 2
}
