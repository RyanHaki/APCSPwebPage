{
 "cells": [
  {
   "cell_type": "markdown",
   "metadata": {},
   "source": [
    "## Binary Math"
   ]
  },
  {
   "cell_type": "code",
   "execution_count": 1,
   "metadata": {},
   "outputs": [
    {
     "name": "stdout",
     "output_type": "stream",
     "text": [
      "1010 x 100101 = 101110010 (binary)\n",
      "1010 x 100101 = 370 (decimal)\n"
     ]
    }
   ],
   "source": [
    "def binary_multiplication(a, b):\n",
    "    \"\"\"\n",
    "    Multiplies two binary numbers and returns the result in both binary and decimal.\n",
    "    \"\"\"\n",
    "    # Convert binary strings to integers\n",
    "    num1 = int(a, 2)\n",
    "    num2 = int(b, 2)\n",
    "    \n",
    "    # Multiply the numbers\n",
    "    result = num1 * num2\n",
    "    \n",
    "    # Convert the result back to binary\n",
    "    binary_result = bin(result)[2:]\n",
    "    \n",
    "    # Return the result in both binary and decimal\n",
    "    return binary_result, result\n",
    "\n",
    "# Get user input for binary numbers\n",
    "binary1 = input(\"Enter first binary number: \")\n",
    "binary2 = input(\"Enter second binary number: \")\n",
    "\n",
    "# Multiply the binary numbers\n",
    "binary_result, decimal_result = binary_multiplication(binary1, binary2)\n",
    "\n",
    "# Print the result\n",
    "print(f\"{binary1} x {binary2} = {binary_result} (binary)\")\n",
    "print(f\"{binary1} x {binary2} = {decimal_result} (decimal)\")\n"
   ]
  },
  {
   "cell_type": "markdown",
   "metadata": {},
   "source": [
    "## Binary Logic"
   ]
  },
  {
   "cell_type": "markdown",
   "metadata": {},
   "source": [
    "![image](https://github.com/RyanHaki/APCSPwebPage/blob/master/images/Screenshot 2023-04-27 at 2.57.17 PM.png?raw=true)"
   ]
  },
  {
   "cell_type": "markdown",
   "metadata": {},
   "source": [
    "## Logic Gates\n",
    "\n",
    "1. Logic gates are used to perform basic Boolean operations such as AND, OR, and NOT, which are the building blocks of more complex digital circuits that form the basis of modern computer functions.\n",
    "\n",
    "2. Boolean operations refer to the logical operations that can be performed on Boolean values, such as AND, OR, and NOT, while logic gates are physical electronic components that implement these Boolean operations in digital circuits."
   ]
  },
  {
   "cell_type": "markdown",
   "metadata": {},
   "source": [
    "## Fetching \n",
    "\n",
    "One hosting service website that is different from Github Pages is Netlify. One advantage of Netlify is that it provides continuous deployment, which means that your website is automatically built and deployed whenever you push changes to your Git repository. This makes it very easy to iterate quickly and deploy changes frequently, without having to worry about the deployment process. Additionally, Netlify provides a lot of other features such as custom domain support, SSL encryption, and forms handling, making it a great choice for static website hosting."
   ]
  },
  {
   "cell_type": "code",
   "execution_count": 1,
   "metadata": {},
   "outputs": [
    {
     "ename": "ModuleNotFoundError",
     "evalue": "No module named 'pandas'",
     "output_type": "error",
     "traceback": [
      "\u001b[0;31m---------------------------------------------------------------------------\u001b[0m",
      "\u001b[0;31mModuleNotFoundError\u001b[0m                       Traceback (most recent call last)",
      "Cell \u001b[0;32mIn[1], line 1\u001b[0m\n\u001b[0;32m----> 1\u001b[0m \u001b[39mimport\u001b[39;00m \u001b[39mpandas\u001b[39;00m \u001b[39mas\u001b[39;00m \u001b[39mpd\u001b[39;00m\n\u001b[1;32m      2\u001b[0m \u001b[39mimport\u001b[39;00m \u001b[39mrequests\u001b[39;00m\n\u001b[1;32m      4\u001b[0m url \u001b[39m=\u001b[39m \u001b[39m\"\u001b[39m\u001b[39mhttps://spoonacular-recipe-food-nutrition-v1.p.rapidapi.com/recipes/complexSearch\u001b[39m\u001b[39m\"\u001b[39m\n",
      "\u001b[0;31mModuleNotFoundError\u001b[0m: No module named 'pandas'"
     ]
    }
   ],
   "source": [
    "import pandas as pd\n",
    "import requests\n",
    "\n",
    "url = \"https://spoonacular-recipe-food-nutrition-v1.p.rapidapi.com/recipes/complexSearch\"\n",
    "\n",
    "headers = {\n",
    "    \"content-type\": \"application/octet-stream\",\n",
    "    \"X-RapidAPI-Key\": \"32d5282f94msh36a081cfb06e672p1c2a8cjsn851d00873829\",\n",
    "    \"X-RapidAPI-Host\": \"spoonacular-recipe-food-nutrition-v1.p.rapidapi.com\"\n",
    "}\n",
    "\n",
    "# Example query parameters\n",
    "querystring = {\n",
    "    \"query\": \"chicken\",\n",
    "    \"number\": 5\n",
    "}\n",
    "\n",
    "response = requests.get(url, headers=headers, params=querystring)\n",
    "\n",
    "# Check the structure of the response data\n",
    "print(response.json())\n",
    "\n",
    "# Access the correct data in the response\n",
    "if \"results\" in response.json():\n",
    "    data = pd.json_normalize(response.json()[\"results\"])\n",
    "elif \"data\" in response.json():\n",
    "    data = pd.json_normalize(response.json()[\"data\"])\n",
    "else:\n",
    "    raise Exception(\"Invalid response data\")\n",
    "\n",
    "# Display the data in a table format\n",
    "print(data.to_markdown(tablefmt=\"grid\"))\n"
   ]
  }
 ],
 "metadata": {
  "kernelspec": {
   "display_name": "Python 3.10.9 64-bit",
   "language": "python",
   "name": "python3"
  },
  "language_info": {
   "codemirror_mode": {
    "name": "ipython",
    "version": 3
   },
   "file_extension": ".py",
   "mimetype": "text/x-python",
   "name": "python",
   "nbconvert_exporter": "python",
   "pygments_lexer": "ipython3",
   "version": "3.10.9"
  },
  "orig_nbformat": 4,
  "vscode": {
   "interpreter": {
    "hash": "aee8b7b246df8f9039afb4144a1f6fd8d2ca17a180786b69acc140d282b71a49"
   }
  }
 },
 "nbformat": 4,
 "nbformat_minor": 2
}
