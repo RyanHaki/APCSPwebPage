{
 "cells": [
  {
   "cell_type": "markdown",
   "metadata": {},
   "source": [
    "## Binary Math"
   ]
  },
  {
   "cell_type": "code",
   "execution_count": 1,
   "metadata": {},
   "outputs": [
    {
     "name": "stdout",
     "output_type": "stream",
     "text": [
      "1010 x 100101 = 101110010 (binary)\n",
      "1010 x 100101 = 370 (decimal)\n"
     ]
    }
   ],
   "source": [
    "def binary_multiplication(a, b):\n",
    "    \"\"\"\n",
    "    Multiplies two binary numbers and returns the result in both binary and decimal.\n",
    "    \"\"\"\n",
    "    # Convert binary strings to integers\n",
    "    num1 = int(a, 2)\n",
    "    num2 = int(b, 2)\n",
    "    \n",
    "    # Multiply the numbers\n",
    "    result = num1 * num2\n",
    "    \n",
    "    # Convert the result back to binary\n",
    "    binary_result = bin(result)[2:]\n",
    "    \n",
    "    # Return the result in both binary and decimal\n",
    "    return binary_result, result\n",
    "\n",
    "# Get user input for binary numbers\n",
    "binary1 = input(\"Enter first binary number: \")\n",
    "binary2 = input(\"Enter second binary number: \")\n",
    "\n",
    "# Multiply the binary numbers\n",
    "binary_result, decimal_result = binary_multiplication(binary1, binary2)\n",
    "\n",
    "# Print the result\n",
    "print(f\"{binary1} x {binary2} = {binary_result} (binary)\")\n",
    "print(f\"{binary1} x {binary2} = {decimal_result} (decimal)\")\n"
   ]
  },
  {
   "cell_type": "markdown",
   "metadata": {},
   "source": [
    "## Binary Logic"
   ]
  },
  {
   "cell_type": "markdown",
   "metadata": {},
   "source": [
    "![image](https://github.com/RyanHaki/APCSPwebPage/blob/master/images/Screenshot 2023-04-27 at 2.57.17 PM.png?raw=true)"
   ]
  },
  {
   "cell_type": "code",
   "execution_count": 6,
   "metadata": {},
   "outputs": [
    {
     "name": "stdout",
     "output_type": "stream",
     "text": [
      "The mean of the data is 0.4904628425744203\n",
      "The mean of the filtered data is 0\n",
      "0 numbers meet the first criteria\n"
     ]
    }
   ],
   "source": [
    "import pandas as pd\n",
    "\n",
    "# Load data from CSV file into a pandas DataFrame\n",
    "df = pd.read_csv('random_numbers_1000.csv')\n",
    "\n",
    "# Calculate the mean of the data\n",
    "mean = df['number'].mean()\n",
    "\n",
    "# Print the mean\n",
    "print(f\"The mean of the data is {mean}\")\n",
    "\n",
    "# Initialize a variable to keep track of the sum of the filtered data\n",
    "filtered_sum = 0\n",
    "\n",
    "# Initialize a variable to keep track of the count of numbers that meet the first criteria\n",
    "count = 0\n",
    "\n",
    "# Iterate over the data\n",
    "for num in df['number']:\n",
    "    if num % 2 != 0: # If the number is odd, skip it\n",
    "        continue\n",
    "    elif num % 5 == 0: # If the number is divisible by 5, multiply it by 2\n",
    "        num *= 2\n",
    "    else: # Otherwise, keep the number the same\n",
    "        pass\n",
    "    \n",
    "    filtered_sum += num # Add the number to the sum\n",
    "    count += 1 # Increment the count of numbers that meet the first criteria\n",
    "\n",
    "# Calculate the mean of the filtered data\n",
    "if count > 0:\n",
    "    filtered_mean = filtered_sum / count\n",
    "else:\n",
    "    filtered_mean = 0\n",
    "\n",
    "# Print the mean and the count of numbers that meet the first criteria\n",
    "print(f\"The mean of the filtered data is {filtered_mean}\")\n",
    "print(f\"{count} numbers meet the first criteria\")\n"
   ]
  },
  {
   "cell_type": "markdown",
   "metadata": {},
   "source": [
    "## Logic Gates\n",
    "\n",
    "1. Logic gates are used to perform basic Boolean operations such as AND, OR, and NOT, which are the building blocks of more complex digital circuits that form the basis of modern computer functions.\n",
    "\n",
    "2. Boolean operations refer to the logical operations that can be performed on Boolean values, such as AND, OR, and NOT, while logic gates are physical electronic components that implement these Boolean operations in digital circuits.\n",
    "\n",
    "3. ![image](https://github.com/RyanHaki/APCSPwebPage/blob/master/images/Screenshot 2023-04-28 at 2.49.30 PM.png?raw=true)"
   ]
  },
  {
   "cell_type": "markdown",
   "metadata": {},
   "source": [
    "## Fetching \n",
    "\n"
   ]
  },
  {
   "cell_type": "code",
   "execution_count": 1,
   "metadata": {},
   "outputs": [
    {
     "name": "stdout",
     "output_type": "stream",
     "text": [
      "[{'id': 1, 'customerName': 'Alice', 'items': [{'name': 'Widget A', 'price': 12.99}, {'name': 'Widget B', 'price': 8.99}, {'name': 'Widget C', 'price': 5.99}], 'orderDate': '2022-04-15', 'total': 27.97}]\n"
     ]
    }
   ],
   "source": [
    "orders = [\n",
    "    {\n",
    "        \"id\": 1,\n",
    "        \"customerName\": \"Alice\",\n",
    "        \"items\": [\n",
    "            {\"name\": \"Widget A\", \"price\": 12.99},\n",
    "            {\"name\": \"Widget B\", \"price\": 8.99},\n",
    "            {\"name\": \"Widget C\", \"price\": 5.99},\n",
    "        ],\n",
    "        \"orderDate\": \"2022-04-15\",\n",
    "        \"total\": 27.97,\n",
    "    },\n",
    "    {\n",
    "        \"id\": 2,\n",
    "        \"customerName\": \"Bob\",\n",
    "        \"items\": [\n",
    "            {\"name\": \"Widget A\", \"price\": 12.99},\n",
    "            {\"name\": \"Widget D\", \"price\": 9.99},\n",
    "        ],\n",
    "        \"orderDate\": \"2022-04-16\",\n",
    "        \"total\": 22.98,\n",
    "    },\n",
    "    {\n",
    "        \"id\": 3,\n",
    "        \"customerName\": \"Charlie\",\n",
    "        \"items\": [\n",
    "            {\"name\": \"Widget C\", \"price\": 5.99},\n",
    "            {\"name\": \"Widget E\", \"price\": 7.99},\n",
    "            {\"name\": \"Widget F\", \"price\": 10.99},\n",
    "        ],\n",
    "        \"orderDate\": \"2022-04-18\",\n",
    "        \"total\": 24.97,\n",
    "    },\n",
    "]\n",
    "\n",
    "def filter_orders_by_total(orders, min_total):\n",
    "    \"\"\"Filters orders by total, only returning orders with a total greater than or equal to min_total.\"\"\"\n",
    "    filtered_orders = []\n",
    "    for order in orders:\n",
    "        if order[\"total\"] >= min_total:\n",
    "            filtered_orders.append(order)\n",
    "    return filtered_orders\n",
    "\n",
    "filtered_orders = filter_orders_by_total(orders, 25.0)\n",
    "print(filtered_orders)\n"
   ]
  },
  {
   "cell_type": "markdown",
   "metadata": {},
   "source": [
    "## GitHub Pages"
   ]
  },
  {
   "cell_type": "markdown",
   "metadata": {},
   "source": [
    "\n",
    "One hosting service website that is different from Github Pages is Netlify. One advantage of Netlify is that it provides continuous deployment, which means that your website is automatically built and deployed whenever you push changes to your Git repository. This makes it very easy to iterate quickly and deploy changes frequently, without having to worry about the deployment process. Additionally, Netlify provides a lot of other features such as custom domain support, SSL encryption, and forms handling, making it a great choice for static website hosting."
   ]
  },
  {
   "cell_type": "markdown",
   "metadata": {},
   "source": [
    "## API's"
   ]
  },
  {
   "cell_type": "code",
   "execution_count": 2,
   "metadata": {},
   "outputs": [
    {
     "name": "stdout",
     "output_type": "stream",
     "text": [
      "             Age\n",
      "count   8.000000\n",
      "mean   35.500000\n",
      "std    23.268618\n",
      "min    15.000000\n",
      "25%    25.500000\n",
      "50%    28.000000\n",
      "75%    33.750000\n",
      "max    90.000000\n",
      "M    4\n",
      "F    4\n",
      "Name: Gender, dtype: int64\n",
      "Gender\n",
      "F    40.0\n",
      "M    31.0\n",
      "Name: Age, dtype: float64\n"
     ]
    }
   ],
   "source": [
    "import pandas as pd\n",
    "\n",
    "data = {\n",
    "    'Name': ['Dillon', 'Noor', 'Steven', 'Lucas', 'Harsha', 'Varalu', 'Ryan', 'Emaad'],\n",
    "    'Age': [24, 31, 42, 27, 29, 26, 90, 15],\n",
    "    'Gender': ['M', 'M', 'M', 'M', 'F', 'F', 'F', 'F'],\n",
    "    'Grade': ['A', 'B', 'A', 'D', 'C', 'F', 'B', 'A']\n",
    "}\n",
    "\n",
    "df = pd.DataFrame(data)\n",
    "\n",
    "# 1. Use the describe function to get summary statistics for the numeric columns\n",
    "print(df.describe())\n",
    "\n",
    "# 2. Use the value_counts function to get the count of each gender\n",
    "print(df['Gender'].value_counts())\n",
    "\n",
    "# 3. Use the groupby function to get the mean age by gender\n",
    "print(df.groupby('Gender')['Age'].mean())\n"
   ]
  }
 ],
 "metadata": {
  "kernelspec": {
   "display_name": "Python 3.9.13 ('base')",
   "language": "python",
   "name": "python3"
  },
  "language_info": {
   "codemirror_mode": {
    "name": "ipython",
    "version": 3
   },
   "file_extension": ".py",
   "mimetype": "text/x-python",
   "name": "python",
   "nbconvert_exporter": "python",
   "pygments_lexer": "ipython3",
   "version": "3.9.13"
  },
  "orig_nbformat": 4,
  "vscode": {
   "interpreter": {
    "hash": "40d3a090f54c6569ab1632332b64b2c03c39dcf918b08424e98f38b5ae0af88f"
   }
  }
 },
 "nbformat": 4,
 "nbformat_minor": 2
}
