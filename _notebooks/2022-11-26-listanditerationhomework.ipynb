{
 "cells": [
  {
   "cell_type": "markdown",
   "metadata": {},
   "source": [
    "# 3.8 and 3.10\n",
    "> Try to complete this to show understanding! Copy this into your notebook so you can also take notes as we lecture. Make a copy of this notebook to your own repository to take notes, do the class challenges, and to access the homework.\n",
    "- toc: true\n",
    "- permalink: /homework/"
   ]
  },
  {
   "cell_type": "markdown",
   "metadata": {},
   "source": [
    "## Overview and Notes:  3.10 - Lists\n",
    "- Make sure you complete the challenge in the challenges section while we present the lesson! \n",
    "\n",
    "Add your <mark>OWN</mark> Notes for 3.10 here: \n",
    "- Operations of lists are listed in the table below. The commands are used to get infomation or change the list.\n",
    "- Lists are collections of data. They are used to store unlimited amount of data and can be called using loops and functions. It is a good way to organize infomation and use it in code at the same time.\n",
    "- Indexes are the position a thing is set in the list. Most code languages start at 0.\n",
    "-The indexes can be added together using '+' to get a combined value.\n",
    "\n",
    "\n",
    "\n",
    "Fill out the empty boxes: \n",
    "\n",
    "|   Pseudocode Operation  | Python Syntax |                                                           Description                                                          |\n",
    "|:-----------------------:|---------------|:------------------------------------------------------------------------------------------------------------------------------:|\n",
    "|         aList[i]\t        |       aList[i]        | _Accesses the element of aList at index i_                                                                                     |\n",
    "|       x ← aList[i]      |       x = aList(i)        | _Assigns the element of aList at index i <br>to a variable 'x'_                                                                |\n",
    "|       aList[i] ← x\t      |      aList(i) = x         | _Assigns the value of a variable 'x' to <br>the element of a List at index i_                                                  |\n",
    "|   aList[i] ← aList[j]   |       aList[i] = aList[j]\t        | _Assigns value of aList[j] to aList[i]_                                                                                        |\n",
    "| INSERT(aList, i, value)\t |       aList.insert(i, value)        | _value is placed at index i in aList. Any <br>element at an index greater than i will shift<br>one position to the right. _    |\n",
    "|   APPEND(aList, value)  |      aList.append(value)         | value is added as an element to the end of aList and length of aList is increased by 1                                    |\n",
    "|     REMOVE(aList, i)\t    |      aList.pop(i)<br>OR<br>aList.remove(value)         | _Removes item at index i and any values at <br>indices greater than i shift to the left. <br>Length of aList decreased by 1. _ |\n"
   ]
  },
  {
   "cell_type": "markdown",
   "metadata": {},
   "source": [
    "## Overview and Notes:  3.8 - Iteration\n",
    "\n",
    "Add your <mark>OWN</mark> Notes for 3.8 here: \n",
    "- Conditional Iteration is like while loops(loops while something is set to something else).\n",
    "- Iteration is repetition. This allows code to repeat a function a set amount of times. Used by every single coding language using a type of loop.\n",
    "- Iteration in Lists and Dictionares will use for loops.\n",
    "- Types of Loops include . . .\n",
    "    - For Loops: For Loops makes it so that a function or multiple functions with loop for a set amount of things or numbers. It is good for checking something in a list because it does the function one by one.\n",
    "    - Recursive Loops: Recursive Loops are functions that loop other functions until something else happens. It's like \"do this until that\". This can work like a for loop but is used for a lot more other functions.\n",
    "    - While Loops: While Loops are very similar to recursive loops. It uses boolean and operations and works as \"do this until that\".\n",
    "\n",
    "\n",
    "\n",
    "\n"
   ]
  },
  {
   "cell_type": "markdown",
   "metadata": {},
   "source": [
    "## Homework Assignment\n",
    "\n",
    "Instead of us making a quiz for you to take, we would like YOU to make a quiz about the material we reviewed.\n",
    "\n",
    "We would like you to <mark>input questions into a list</mark>, and use some sort of iterative system to print the questions, detect an input, and determine if you answered correctly. There should be *at least* <mark>five questions</mark>, each with *at least* <mark>three possible answers</mark>.\n",
    "\n",
    "You may use the template below as a framework for this assignment."
   ]
  },
  {
   "cell_type": "code",
   "execution_count": 1,
   "metadata": {},
   "outputs": [
    {
     "name": "stdout",
     "output_type": "stream",
     "text": [
      "The question was: What is the starting index value used in most coding languages? You answered 0\n",
      "Correct\n",
      "The question was: What is used for repetition of a function? You answered iteration\n",
      "Correct\n",
      "The question was: What are iteration most often done with? You answered loops\n",
      "Correct\n",
      "The question was: What do list collect and store? You answered data\n",
      "Correct\n",
      "The question was: What locates items that are inside of a list? You answered index\n",
      "Correct\n"
     ]
    }
   ],
   "source": [
    "questions = [\"What is the starting index value used in most coding languages?\", \"What is used for repetition of a function?\", \"What are iteration most often done with?\", \"What do list collect and store?\", \"What locates items that are inside of a list?\"\n",
    "    #questions go here (remember to make them strings!)\n",
    "]\n",
    "correct_answers = [\"0\", \"iteration\", \"loops\", \"data\", \"index\"\n",
    "]\n",
    "\n",
    "def questionloop(questions_input):\n",
    "    #make an iterative function to ask the questions\n",
    "    #this can be any loop you want as long as it works!\n",
    "    i = 0\n",
    "    ans_inputs = []\n",
    "    while i < len(questions_input):\n",
    "        ans_inputs.append(input(questions_input[i]))\n",
    "        i += 1\n",
    "    return ans_inputs\n",
    "\n",
    "def answercheck(q, ans_chk, input_ans):\n",
    "        #make a function to check if the answer was correct or not\n",
    "    i = 0\n",
    "    while i < len(ans_chk):\n",
    "        print(\"The question was:\" + \" \" + q[i] + \" You answered \" + input_ans[i])\n",
    "        if ans_chk[i] == input_ans[i]:\n",
    "            print(\"Correct\")\n",
    "        else:\n",
    "            print(\"Incorrect! It was \" + ans_chk[i])\n",
    "        i += 1\n",
    "    return\n",
    "\n",
    "answers = questionloop(questions)\n",
    "answercheck(questions, correct_answers,answers)"
   ]
  },
  {
   "cell_type": "markdown",
   "metadata": {},
   "source": [
    "### Hacks\n",
    "\n",
    "Here are some ideas of things you can do to make your program even cooler. Doing these will raise your grade if done correctly.\n",
    "\n",
    "- Add more than five questions with more than three answer choices\n",
    "- Randomize the order in which questions/answers are output\n",
    "- At the end, display the user's score and determine whether or not they passed\n",
    "\n",
    "## Challenges\n",
    "\n",
    "<mark>Important!</mark> You don't have to complete these challenges completely perfectly, but you will be marked down if you don't show evidence of at least having tried these challenges in the time we gave during the lesson.\n",
    "\n",
    "### 3.10 Challenge\n",
    "\n",
    "Follow the instructions in the code comments."
   ]
  },
  {
   "cell_type": "code",
   "execution_count": 8,
   "metadata": {},
   "outputs": [
    {
     "name": "stdout",
     "output_type": "stream",
     "text": [
      "carrots\n",
      "carrots\n",
      "artichokes\n",
      "['apples', 'eggs', 'artichokes', 'carrots', 'cucumbers', 'umbrellas', 'artichokes', 'umbrellas', 'artichokes']\n"
     ]
    }
   ],
   "source": [
    "grocery_list = ['apples', 'milk', 'eggs', 'oranges', 'carrots', 'cucumbers', 'umbrellas', 'artichokes']\n",
    "print(grocery_list[4])\n",
    "x = grocery_list[4]\n",
    "print(x)\n",
    "grocery_list.append(\"umbrellas\")\n",
    "grocery_list.append(\"artichokes\")\n",
    "grocery_list[3] = grocery_list[7]\n",
    "print(grocery_list[3])\n",
    "grocery_list.remove('milk')\n",
    "print(grocery_list)\n",
    "\n",
    "# Print the fourth item in the list\n",
    "\n",
    "\n",
    "# Now, assign the fourth item in the list to a variable, x and then print the variable\n",
    "\n",
    "\n",
    "# Add these two items at the end of the list : umbrellas and artichokes\n",
    "\n",
    "\n",
    "\n",
    "# Insert the item eggs as the third item of the list \n",
    "\n",
    "\n",
    "# Remove milk from the list \n",
    "\n",
    "\n",
    "# Assign the element at the end of the list to index 2. Print index 2 to check\n",
    "\n",
    "\n",
    "# Print the entire list, does it match ours ? \n",
    "\n",
    "\n",
    "# Expected output\n",
    "# carrots\n",
    "# carrots\n",
    "# artichokes\n",
    "# ['apples', 'eggs', 'artichokes', 'carrots', 'cucumbers', 'umbrellas', 'artichokes']"
   ]
  },
  {
   "cell_type": "markdown",
   "metadata": {},
   "source": [
    "### 3.8 Challenge\n",
    "\n",
    "Create a loop that <mark>converts 8-bit binary values</mark> from the provided list into <mark>decimal numbers</mark>. Then, after the value is determined, <mark>remove all the values greater than 100</mark> from the list using a list-related function you've been taught before. <mark>Print the new list</mark> when done.\n",
    "\n",
    "Once you've done this with one of the types of loops discussed in this lesson, create a function that does the same thing with a *different* type of loop."
   ]
  },
  {
   "cell_type": "code",
   "execution_count": 10,
   "metadata": {},
   "outputs": [
    {
     "name": "stdout",
     "output_type": "stream",
     "text": [
      "[73, 55]\n",
      "[73, 55]\n"
     ]
    }
   ],
   "source": [
    "binarylist = [\n",
    "    \"01001001\", \"10101010\", \"10010110\", \"00110111\", \"11101100\", \"11010001\", \"10000001\"\n",
    "]\n",
    "\n",
    "def binary_convert(binary):\n",
    "    i = 0\n",
    "    num = []\n",
    "    while i < len(binary):\n",
    "        if (int(binary[i], 2) <= 100):\n",
    "            num.append(int(binary[i], 2))\n",
    "        i += 1\n",
    "    return num\n",
    "\n",
    "decimallist = binary_convert(binarylist)\n",
    "\n",
    "print(decimallist)\n",
    "\n",
    "def binary_convert2(binary):\n",
    "    num = []\n",
    "    for x in range(0, len(binary)):\n",
    "        if (int(binary[x], 2) <= 100):\n",
    "            num.append(int(binary[x], 2))\n",
    "    return num\n",
    "\n",
    "decimallist2 = binary_convert2(binarylist)\n",
    "\n",
    "print(decimallist2)\n",
    "\n",
    "    #use this function to convert every binary value in binarylist to decimal\n",
    "    #afterward, get rid of the values that are greater than 100 in decimal\n",
    "\n",
    "#when done, print the results"
   ]
  }
 ],
 "metadata": {
  "kernelspec": {
   "display_name": "Python 3.9.6 64-bit",
   "language": "python",
   "name": "python3"
  },
  "language_info": {
   "codemirror_mode": {
    "name": "ipython",
    "version": 3
   },
   "file_extension": ".py",
   "mimetype": "text/x-python",
   "name": "python",
   "nbconvert_exporter": "python",
   "pygments_lexer": "ipython3",
   "version": "3.9.6"
  },
  "orig_nbformat": 4,
  "vscode": {
   "interpreter": {
    "hash": "31f2aee4e71d21fbe5cf8b01ff0e069b9275f58929596ceb00d14d90e3e16cd6"
   }
  }
 },
 "nbformat": 4,
 "nbformat_minor": 2
}
