{
 "cells": [
  {
   "attachments": {},
   "cell_type": "markdown",
   "metadata": {},
   "source": [
    "# Unit 3.14 and 3.15 Random Values Student Copy\n",
    "> Here is our lesson about random values!\n",
    "\n",
    "- toc: true\n",
    "- comments: true\n",
    "- categories: [Week-13,Big-Idea-3]\n",
    "- image: /images/college-board-logo.png"
   ]
  },
  {
   "attachments": {},
   "cell_type": "markdown",
   "metadata": {},
   "source": [
    "Purpose/Objectives: Teach student how to implement randomness into their code to make their code simulate real life situations. \n",
    "\n",
    "In this lesson students will learn:\n",
    "- How to import random to python\n",
    "- How to use random with a list or number range \n",
    "- How to code randomness in everyday scenarios"
   ]
  },
  {
   "attachments": {},
   "cell_type": "markdown",
   "metadata": {},
   "source": [
    "ADD YOUR ADDITIONAL NOTES HERE:"
   ]
  },
  {
   "attachments": {},
   "cell_type": "markdown",
   "metadata": {},
   "source": [
    "## What are Random Values?"
   ]
  },
  {
   "attachments": {},
   "cell_type": "markdown",
   "metadata": {},
   "source": [
    "Random Values are a number generated using a large set of numbers and a mathematical algorithm which gives equal probability to all number occuring"
   ]
  },
  {
   "attachments": {},
   "cell_type": "markdown",
   "metadata": {},
   "source": [
    "Each Result from randomization is equally likely to occur\n",
    "Using random number generation in a program means each execution may produce a different result"
   ]
  },
  {
   "attachments": {},
   "cell_type": "markdown",
   "metadata": {},
   "source": [
    "What are Examples of Random outputs in the world?  Add a few you can think of. \n",
    "- Ex: Marbles, dice\n"
   ]
  },
  {
   "attachments": {},
   "cell_type": "markdown",
   "metadata": {},
   "source": [
    "## Why do we need Random Values for code?"
   ]
  },
  {
   "cell_type": "markdown",
   "metadata": {},
   "source": [
    "random values can be used in coding:\n",
    "\n",
    "- games\n",
    "- statistical sampling\n",
    "- cryptography"
   ]
  },
  {
   "attachments": {},
   "cell_type": "markdown",
   "metadata": {},
   "source": [
    "Random values can be used in coding:\n",
    "- "
   ]
  },
  {
   "cell_type": "code",
   "execution_count": 1,
   "metadata": {},
   "outputs": [
    {
     "name": "stdout",
     "output_type": "stream",
     "text": [
      "38\n"
     ]
    }
   ],
   "source": [
    "import random\n",
    "random_number = random.randint(1,100)\n",
    "print(random_number)"
   ]
  },
  {
   "cell_type": "code",
   "execution_count": 4,
   "metadata": {},
   "outputs": [
    {
     "name": "stdout",
     "output_type": "stream",
     "text": [
      "cherry\n"
     ]
    }
   ],
   "source": [
    "def randomlist():\n",
    "    list = [\"apple\", \"banana\", \"cherry\", \"blueberry\"]\n",
    "    element = random.choice(list)\n",
    "    print(element)\n",
    "randomlist()"
   ]
  },
  {
   "attachments": {},
   "cell_type": "markdown",
   "metadata": {},
   "source": [
    "Real Life Examples:\n",
    "Dice Roll"
   ]
  },
  {
   "cell_type": "code",
   "execution_count": 5,
   "metadata": {},
   "outputs": [
    {
     "name": "stdout",
     "output_type": "stream",
     "text": [
      "Roll 1:3\n",
      "Roll 2:5\n",
      "Roll 3:2\n"
     ]
    }
   ],
   "source": [
    "import random\n",
    "for i in range(3):\n",
    "    roll = random.randint(1,6)\n",
    "    print(\"Roll \" + str(i + 1) + \":\" + str(roll))"
   ]
  },
  {
   "attachments": {},
   "cell_type": "markdown",
   "metadata": {},
   "source": [
    "## Challenge #1\n",
    "Write a function that will a simulate a coinflip and print the output"
   ]
  },
  {
   "cell_type": "code",
   "execution_count": 32,
   "metadata": {},
   "outputs": [
    {
     "name": "stdout",
     "output_type": "stream",
     "text": [
      "heads\n"
     ]
    }
   ],
   "source": [
    "\n",
    "def randomlist():\n",
    "    list = [\"heads\", \"tails\"]\n",
    "    element = random.choice(list)\n",
    "    print(element)\n",
    "randomlist()"
   ]
  },
  {
   "attachments": {},
   "cell_type": "markdown",
   "metadata": {},
   "source": [
    "EXTRA: Create a function that will randomly select 5 playing Cards and check if the 5 cards are a Royal Flush"
   ]
  },
  {
   "cell_type": "code",
   "execution_count": 35,
   "metadata": {},
   "outputs": [
    {
     "name": "stdout",
     "output_type": "stream",
     "text": [
      "[['J', 'Diamonds'], [10, 'Hearts'], ['K', 'Diamonds'], ['K', 'Hearts'], [7, 'Spades']]\n",
      "False\n"
     ]
    }
   ],
   "source": [
    "import random\n",
    "\n",
    "def royal_flush():\n",
    "  # create a list of suits\n",
    "  suits = [\"Clubs\",\"Spades\",\"Diamonds\",\"Hearts\"] \n",
    "  # create a list of card numbers\n",
    "  numbers = [2,3,4,5,6,7,8,9,10,\"J\",\"Q\",\"K\",\"A\"] \n",
    "  # store our 5 random cards\n",
    "  cards = []\n",
    "  # loop 5 times to generate 5 random cards\n",
    "  for i in range(5):\n",
    "    # create a random card number\n",
    "    rand_number = random.choice(numbers) \n",
    "    # create a random suit\n",
    "    rand_suit = random.choice(suits) \n",
    "    # add the random card to our list\n",
    "    cards.append([rand_number,rand_suit]) \n",
    "  # check if the cards make a royal flush\n",
    "  result = check_royal_flush(cards) \n",
    "  # print the cards and the result\n",
    "  print(cards)\n",
    "  print(result)\n",
    "\n",
    "# function to check if the given cards make a royal flush\n",
    "def check_royal_flush(cards):\n",
    "  # set the initial result to false\n",
    "  result = False\n",
    "  # get the suit of the first card\n",
    "  suit = cards[0][1]\n",
    "  # set the initial card number\n",
    "  card_number = 10\n",
    "  # loop through the cards\n",
    "  for card in cards:\n",
    "    # check if the card suits match\n",
    "    if card[1] == suit:\n",
    "      # check if the card numbers are consecutive starting from 10\n",
    "      if card[0] == card_number:\n",
    "        # increment the card number\n",
    "        card_number += 1\n",
    "      # if the card numbers are not consecutive, return False\n",
    "      else:\n",
    "        return False\n",
    "    # if the card suits don't match, return False\n",
    "    else:\n",
    "      return False\n",
    "  # if all the cards match the suit and the numbers are consecutive, return True\n",
    "  return True\n",
    "\n",
    "# call the royal_flush function\n",
    "royal_flush()"
   ]
  },
  {
   "attachments": {},
   "cell_type": "markdown",
   "metadata": {},
   "source": [
    "## Homework\n",
    "Given a random decimal number convert it into binary\n",
    "as Extra convert it to hexidecimal as well. "
   ]
  },
  {
   "cell_type": "code",
   "execution_count": 33,
   "metadata": {},
   "outputs": [
    {
     "name": "stdout",
     "output_type": "stream",
     "text": [
      "110\n",
      "6\n"
     ]
    }
   ],
   "source": [
    "# decimal to binary\n",
    "\n",
    "dec = float(input(\"Enter a decimal number: \"))\n",
    "\n",
    "print(bin(int(dec))[2:])\n",
    "\n",
    "# decimal to hexidecimal\n",
    "\n",
    "print(hex(int(dec))[2:])"
   ]
  },
  {
   "cell_type": "markdown",
   "metadata": {},
   "source": [
    "fill in the blanks!\n",
    "# Libraries\n",
    "Okay, so we've learned a lot of code, and all of you now can boast that you can code at least some basic programs in python. But, what about more advanced stuff? What if there's a more advanced program you don't know how to make? Do you need to make it yourself? Well, not always. \n",
    "\n",
    "You've already learned about functions that you can write to reuse in your code in previous lessons. But,there are many others who code in python just like you. So why would you do again what someone has already done, and is available for any python user? \n",
    "\n",
    "Packages allow a python user to import methods from a library, and use the methods in their code. Most libraries come with documentation on the different methods they entail and how to use them, and they can be found with a quick google  search. methods are used with the following: \n",
    "\n",
    "#### Note: a method from a package can only be used after the import statement. \n",
    "\n",
    "Some libraries are always installed, such as those with the list methods which we have previously discussed. But others require a special python keyword called import. We will learn different ways to import in Challenge 1.\n",
    "\n",
    "Sometimes we only need to import a single method from the package. We can do that with the word \"from\", followed by the package name, then the word import, then the method. This will alllow you to use the method without mentioning the package's name, unlike what we did before, however other methods from that package cannot be used. To get the best of both worlds you can use \"*\".\n",
    "\n",
    "To import a method as an easier name, just do what we did first, add the word \"as\", and write the name you would like to use that package as.\n",
    "\n",
    "# Challenge 1: Basic Libraries\n",
    "1. Find a python package on the internet and import it\n",
    "2. Choose a method from the package and import only the method\n",
    "3. import the package as a more convenient name."
   ]
  },
  {
   "cell_type": "code",
   "execution_count": 1,
   "metadata": {},
   "outputs": [
    {
     "data": {
      "text/plain": [
       "5"
      ]
     },
     "execution_count": 1,
     "metadata": {},
     "output_type": "execute_result"
    }
   ],
   "source": [
    "from random import *\n",
    "randint(1,5)"
   ]
  },
  {
   "cell_type": "markdown",
   "metadata": {},
   "source": [
    "# Challenge 2: Turtle\n",
    "Turtle is a python drawing package which allows you to draw all kinds of different shapes. It's ofter used to teach beginning python learners, but is really cool to use anywhere. Turtle employs a graphics  package to display what you've done, but unfortunately it's kind of annoying to make work with vscode.\n",
    "<br>\n",
    "Use: repl.it\n",
    "<br>\n",
    "Click \"+ Create\", and for language, select \"Python (with Turtle)\"\n",
    "<br>\n",
    "[Documentation](https://docs.python.org/3/library/turtle.html#turtle.pendown)<br>\n",
    "Task: Have fun with turtle! Create something that uses at least 2 lines of different lengths and 2 turns with different angles, and changes at least one setting about either the pen or canvas. Also use one command that isn't mentioned on the table below(there are a lot). Paste a screenshot of the code and the drawing from repl.it\n",
    "\n",
    "|Commands|\n",
    "|--------|\n",
    "|forward(pixels)|\n",
    "|right(degrees)|\n",
    "|left(degrees)|\n",
    "|setpos(x,y)|\n",
    "|speed(speed)|\n",
    "|pensize(size)|\n",
    "|pencolor(color)|\n",
    "Note: Color should be within quotes, like \"brown\", or \"red\"\n"
   ]
  },
  {
   "cell_type": "markdown",
   "metadata": {},
   "source": [
    "# Challenge 3: Math\n",
    "The math package allows for some really cool mathematical methods!<br>\n",
    "\n",
    "|methods|Action|\n",
    "|-------|------|\n",
    "|ceil(x)|will return whatever the next highest interger |\n",
    "|x|rounds to largest intefer less than or equal to x|\n",
    "|factorial(x)|reutrns the factorial|\n",
    "|gcf(x,y)|returns the greatest common denominator of x and y|\n",
    "|lcm(x,y)|returns the least common denominator|\n",
    "\n",
    "##### Challenge: Create a program which asks for a user input of two numbers, and returns the following:\n",
    "- each number rounded up\n",
    "- each number rounded down\n",
    "- the lcm of the rounded down numbers\n",
    "- the gcf of the rounded up numbers\n",
    "- the factorial of each number\n",
    "- something else using the math package!<br>\n",
    "[Documentation](https://docs.python.org/3/library/math.html)"
   ]
  },
  {
   "cell_type": "markdown",
   "metadata": {},
   "source": [
    "# Homework: Putting it all together(complete only after the random values lesson)\n",
    "Option 1: Create a python program which generates a random number between 1 and 10, and use turtle to draw a regular polygon with that many sides. As a hint, remember that the total sum of all the angles in a polygon is (the number of sides - 2) * 180. Note: a regular polygon has all sides and angles the same size. Paste a screenshot of the code and the drawing from repl.it\n",
    "\n",
    "Option 2: use the \"datetime\" package, and looking up documentation, create a program to generate 2 random dates and find the number of days between\n",
    "\n",
    "\n",
    "Extra ideas: customize the settings, draw a picture, or something else!"
   ]
  },
  {
   "cell_type": "code",
   "execution_count": 2,
   "metadata": {},
   "outputs": [
    {
     "name": "stdout",
     "output_type": "stream",
     "text": [
      "The number of days between the two dates is: 423\n"
     ]
    }
   ],
   "source": [
    "# Import the datetime package\n",
    "import datetime\n",
    "\n",
    "# Generate two random dates\n",
    "date_1 = datetime.date(2020, 5, 6)\n",
    "date_2 = datetime.date(2019, 3, 10)\n",
    "\n",
    "# Find the difference between dates\n",
    "difference = date_1 - date_2\n",
    "\n",
    "# Print the number of days between the two dates\n",
    "print(\"The number of days between the two dates is:\", difference.days)"
   ]
  }
 ],
 "metadata": {
  "kernelspec": {
   "display_name": "Python 3.9.6 64-bit",
   "language": "python",
   "name": "python3"
  },
  "language_info": {
   "codemirror_mode": {
    "name": "ipython",
    "version": 3
   },
   "file_extension": ".py",
   "mimetype": "text/x-python",
   "name": "python",
   "nbconvert_exporter": "python",
   "pygments_lexer": "ipython3",
   "version": "3.9.6"
  },
  "orig_nbformat": 4,
  "vscode": {
   "interpreter": {
    "hash": "31f2aee4e71d21fbe5cf8b01ff0e069b9275f58929596ceb00d14d90e3e16cd6"
   }
  }
 },
 "nbformat": 4,
 "nbformat_minor": 2
}
