{
 "cells": [
  {
   "cell_type": "code",
   "execution_count": 1,
   "metadata": {},
   "outputs": [
    {
     "name": "stdout",
     "output_type": "stream",
     "text": [
      "The maximum number of 10 and 20 is 20\n",
      "The minimum number of 10 and 20 is 10\n"
     ]
    }
   ],
   "source": [
    "function findMax(numberA, numberB){\n",
    "    if (numberA > numberB){\n",
    "        return numberA;\n",
    "    } else {\n",
    "        return numberB;\n",
    "    }\n",
    "}\n",
    "function FindMin(numberA,numberB){\n",
    "    if (numberA < numberB){\n",
    "        return numberA;\n",
    "    } else {\n",
    "        return numberB;\n",
    "    }\n",
    "}\n",
    "let maximum1 = findMax(10, 20);\n",
    "let minimum1 = FindMin(10, 20);\n",
    "console.log(\"The maximum number of 10 and 20 is \" + maximum1);\n",
    "console.log(\"The minimum number of 10 and 20 is \" + minimum1);"
   ]
  }
 ],
 "metadata": {
  "kernelspec": {
   "display_name": "JavaScript (Node.js)",
   "language": "javascript",
   "name": "javascript"
  },
  "language_info": {
   "file_extension": ".js",
   "mimetype": "application/javascript",
   "name": "javascript",
   "version": "10.13.0"
  },
  "orig_nbformat": 4
 },
 "nbformat": 4,
 "nbformat_minor": 2
}
