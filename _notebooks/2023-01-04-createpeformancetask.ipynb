{
 "cells": [
  {
   "cell_type": "markdown",
   "metadata": {},
   "source": [
    "### Create Peformance Task\n",
    "- title: Create Peformance Task\n"
   ]
  },
  {
   "cell_type": "markdown",
   "metadata": {},
   "source": [
    "# Submission #1"
   ]
  },
  {
   "cell_type": "markdown",
   "metadata": {},
   "source": [
    "| Reporting Catergory |Student Score |College Board score | Comments|\n",
    "|----|----|-----|-----|\n",
    "|Program Purpose and Function| 0 | 0 | They only had 5 of the 6 requirments meet which ended up giving them no points |\n",
    "|Data Abstraction| 1 | 1 | They met all three of the requirments  |\n",
    "|Managing Complexity| 0 | 0 | They didn't meet any of the requirments |\n",
    "|Procedural Abstraction | 1 | 1 | The response earned the point for this row, meeting the two criteria |\n",
    "|Algorithm Implementation| 1 | 1 | The response earned the point for this row, meeting both of the criteria | \n",
    "| Testing| 1 | 1 | The response earned the point for this row, meeting all three criteria |"
   ]
  },
  {
   "cell_type": "markdown",
   "metadata": {},
   "source": [
    "# Submission  #2 "
   ]
  },
  {
   "cell_type": "markdown",
   "metadata": {},
   "source": [
    "| Reporting Catergory |Student Score |College Board score | Comments|\n",
    "|---|---|----|----|\n",
    "|Program Purpose and Function| 1 | 1 | The response earned the point for this row, meeting all six criteria |\n",
    "|Data Abstraction| 1 | 1 | The response earned the point for this row, meeting all three criteria |\n",
    "|Managing Complexity| 1 | 1 | The response earned the point for this row, meeting both of the criteria |\n",
    "|Procedural Abstraction | 1 | 1 | The response earned the point for this row, meeting both of the criteria |\n",
    "|Algorithm Implementation| 1 | 1 | The response earned the point for this row, meeting both of the criteria | \n",
    "| Testing| 1 | 1 | The response earned the point for this row, meeting all of the three criteria|"
   ]
  }
 ],
 "metadata": {
  "kernelspec": {
   "display_name": "Python 3.9.6 64-bit",
   "language": "python",
   "name": "python3"
  },
  "language_info": {
   "name": "python",
   "version": "3.9.6"
  },
  "orig_nbformat": 4,
  "vscode": {
   "interpreter": {
    "hash": "31f2aee4e71d21fbe5cf8b01ff0e069b9275f58929596ceb00d14d90e3e16cd6"
   }
  }
 },
 "nbformat": 4,
 "nbformat_minor": 2
}
