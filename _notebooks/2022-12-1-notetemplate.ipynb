{
 "cells": [
  {
   "cell_type": "markdown",
   "metadata": {},
   "source": [
    "# Note Template\n",
    "- categories: [Week-15]\n",
    "- comments: true"
   ]
  },
  {
   "cell_type": "markdown",
   "metadata": {},
   "source": [
    "# Take some additional notes that you would like here for 3.12 and 3.13. We will be looking for additional notes from the presentation. \n"
   ]
  },
  {
   "cell_type": "markdown",
   "metadata": {},
   "source": [
    "## Notes\n",
    "Procedure: A named group of programming instructions that may have parameters and return values.\n",
    "\n",
    "- Can also be referred as method or function, depending on the language\n",
    "Parameters: Input values of a procedure\n",
    "\n",
    "Arguments: Specify the values of the parameters when a procedure is called\n",
    "\n",
    "Modularity: The compartmentalization and interrelation of the parts of code\n",
    "\n",
    "Procedural Abstraction: Provides a name for a process that allows a procedure to be used only knowing what it does\n",
    "\n",
    "- Have variable parameters\n",
    "- Code handles different situations depending on how its parameters are set/called\n",
    "- It allows a solution to a large problem based on the solutions of smaller subproblems.\n",
    "What are some other names for procedures?: Another name for procedures are function. Procedure names can be any name we want, i.e. decimalToBinary()\n",
    "\n",
    "Why are procedures effective?: Have the ability to alter the result without actually changing the calls to the program\n",
    "\n",
    "- Convenient to change the actions if there is an error in the code\n",
    "    - Able to break the code up and abstract what different part of the code does; helps identiy bugs, error, etc.\n",
    "    - Much better than reviewing code without a procedure (you would have to look at every line by line)\n"
   ]
  },
  {
   "cell_type": "markdown",
   "metadata": {},
   "source": [
    "# What are procedures?\n",
    "\n",
    "**Fill in the blanks please:**\n",
    "\n",
    "Procedure: is a named group of programming instructions that may have parameters and return values.\n",
    "\n",
    "Parameters:  are input values of a procedure.\n",
    "\n",
    "Arguments: specify the values of the parameters when a procedure is called\n",
    "\n",
    "Modularity: Separating a program's functions into independent pieces or blocks, each containing all the parts needed to execute a single aspect of the functionality\n",
    "\n",
    "Procedural Abstraction: provides a name for a process that allows a procedure to be used only knowing WHAT it does, not HOW it does it.\n",
    "\n",
    "What are some other names for procedures?: Functions\n",
    "\n",
    "Why are procedures effective?: We have the ability to alter the result without actually changing the calls to the program\n"
   ]
  },
  {
   "attachments": {},
   "cell_type": "markdown",
   "metadata": {},
   "source": [
    "## <mark>Challenge 1</mark> below: Add the command that will **call** the procedure. "
   ]
  },
  {
   "cell_type": "code",
   "execution_count": 2,
   "metadata": {},
   "outputs": [
    {
     "name": "stdout",
     "output_type": "stream",
     "text": [
      "Binary of num 7 is: 111\n"
     ]
    }
   ],
   "source": [
    "def DecimalToBinary(num):\n",
    "    strs = \"\"\n",
    "    while num:\n",
    "        # if (num & 1) = 1\n",
    "        if (num & 1):\n",
    "            strs += \"1\"\n",
    "        # if (num & 1) = 0\n",
    "        else:\n",
    "            strs += \"0\"\n",
    "        # right shift by 1\n",
    "        num >>= 1\n",
    "    return strs\n",
    " \n",
    "# function to reverse the string\n",
    "def reverse(strs):\n",
    "    print(strs[::-1])\n",
    " \n",
    "# Driver Code\n",
    "num = 7\n",
    "print(\"Binary of num 7 is:\", end=\" \")\n",
    "reverse(DecimalToBinary(num))"
   ]
  },
  {
   "attachments": {},
   "cell_type": "markdown",
   "metadata": {},
   "source": [
    "## <mark>Challenge 2</mark> below: Complete the Min and Max procedure in either JavaScript and Python using the instructions from the JavaScript page. (JavaScript will get you a extra 0.1)"
   ]
  },
  {
   "cell_type": "code",
   "execution_count": 1,
   "metadata": {
    "vscode": {
     "languageId": "javascript"
    }
   },
   "outputs": [
    {
     "name": "stdout",
     "output_type": "stream",
     "text": [
      "The maximum number of 10 and 20 is 20\n",
      "The minimum number of 10 and 20 is 10\n"
     ]
    }
   ],
   "source": [
    "function findMax(numberA, numberB){\n",
    "    if (numberA > numberB){\n",
    "        return numberA;\n",
    "    } else {\n",
    "        return numberB;\n",
    "    }\n",
    "}\n",
    "function FindMin(numberA,numberB){\n",
    "    if (numberA < numberB){\n",
    "        return numberA;\n",
    "    } else {\n",
    "        return numberB;\n",
    "    }\n",
    "}\n",
    "let maximum1 = findMax(10, 20);\n",
    "let minimum1 = FindMin(10, 20);\n",
    "console.log(\"The maximum number of 10 and 20 is \" + maximum1);\n",
    "console.log(\"The minimum number of 10 and 20 is \" + minimum1);"
   ]
  },
  {
   "attachments": {},
   "cell_type": "markdown",
   "metadata": {},
   "source": [
    "## <mark>Homework/Hacks</mark>: For the hw, you have two options, easy or hard. The easy hack is for a 2.7 + extra work for the full 3. The easy hack is simply creating your own procedure with your own creativity. Since there is a lot of leeway for this one, you must do additional work to get a 3. For the hard hack, below is the start to a character to binary convertor. This is just a template, but the goal is to translate \"APCSP\" into binary. You can delete the existing code if you want. The only contraint is that you must use a procedure. Doing this will get you a 3. "
   ]
  },
  {
   "cell_type": "code",
   "execution_count": 1,
   "metadata": {},
   "outputs": [
    {
     "name": "stdout",
     "output_type": "stream",
     "text": [
      "Original text is: APCSP\n",
      "The binary is:  ['01', '010000', '011', '010011', '010000']\n"
     ]
    }
   ],
   "source": [
    "def charToBinary(x):\n",
    "    binary = []\n",
    "    for char in x:\n",
    "        letter = ord(char) - 64\n",
    "        binary.append(bin(letter).replace(\"0b\", \"0\"))\n",
    "    return binary\n",
    "\n",
    "text = \"APCSP\"\n",
    "c = charToBinary(text)\n",
    "print(\"Original text is: \" + text)\n",
    "print(\"The binary is: \", c)"
   ]
  }
 ],
 "metadata": {
  "kernelspec": {
   "display_name": "Python 3.9.12 ('base')",
   "language": "python",
   "name": "python3"
  },
  "language_info": {
   "codemirror_mode": {
    "name": "ipython",
    "version": 3
   },
   "file_extension": ".py",
   "mimetype": "text/x-python",
   "name": "python",
   "nbconvert_exporter": "python",
   "pygments_lexer": "ipython3",
   "version": "3.9.12"
  },
  "orig_nbformat": 4,
  "vscode": {
   "interpreter": {
    "hash": "7ed97da7450d87cfa2644332eccbe750e7ff2c4f6ee4f4e314e016604d4df861"
   }
  }
 },
 "nbformat": 4,
 "nbformat_minor": 2
}
