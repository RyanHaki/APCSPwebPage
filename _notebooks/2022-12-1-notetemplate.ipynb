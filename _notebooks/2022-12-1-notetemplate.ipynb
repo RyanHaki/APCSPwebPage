{
 "cells": [
  {
   "cell_type": "markdown",
   "metadata": {},
   "source": [
    "# Note Template\n",
    "- categories: [Week-15]\n",
    "- comments: true"
   ]
  },
  {
   "cell_type": "markdown",
   "metadata": {},
   "source": [
    "# Take some additional notes that you would like here for 3.12 and 3.13. We will be looking for additional notes from the presentation. \n"
   ]
  },
  {
   "cell_type": "markdown",
   "metadata": {},
   "source": [
    "# What are procedures?\n",
    "\n",
    "**Fill in the blanks please:**\n",
    "\n",
    "Procedure: is a named group of programming instructions that may have parameters and return values.\n",
    "\n",
    "Parameters:  are input values of a procedure.\n",
    "\n",
    "Arguments: specify the values of the parameters when a procedure is called\n",
    "\n",
    "Modularity: Separating a program's functions into independent pieces or blocks, each containing all the parts needed to execute a single aspect of the functionality\n",
    "\n",
    "Procedural Abstraction: provides a name for a process that allows a procedure to be used only knowing WHAT it does, not HOW it does it.\n",
    "\n",
    "What are some other names for procedures?: Functions\n",
    "\n",
    "Why are procedures effective?: We have the ability to alter the result without actually changing the calls to the program\n"
   ]
  },
  {
   "attachments": {},
   "cell_type": "markdown",
   "metadata": {},
   "source": [
    "## <mark>Challenge 1</mark> below: Add the command that will **call** the procedure. "
   ]
  },
  {
   "cell_type": "code",
   "execution_count": 2,
   "metadata": {},
   "outputs": [
    {
     "name": "stdout",
     "output_type": "stream",
     "text": [
      "Binary of num 67 is: 111\n"
     ]
    }
   ],
   "source": [
    "def DecimalToBinary(num):\n",
    "    strs = \"\"\n",
    "    while num:\n",
    "        # if (num & 1) = 1\n",
    "        if (num & 1):\n",
    "            strs += \"1\"\n",
    "        # if (num & 1) = 0\n",
    "        else:\n",
    "            strs += \"0\"\n",
    "        # right shift by 1\n",
    "        num >>= 1\n",
    "    return strs\n",
    " \n",
    "# function to reverse the string\n",
    "def reverse(strs):\n",
    "    print(strs[::-1])\n",
    " \n",
    "# Driver Code\n",
    "num = 7\n",
    "print(\"Binary of num 7 is:\", end=\" \")\n",
    "reverse(DecimalToBinary(num))"
   ]
  },
  {
   "attachments": {},
   "cell_type": "markdown",
   "metadata": {},
   "source": [
    "## <mark>Challenge 2</mark> below: Complete the Min and Max procedure in either JavaScript and Python using the instructions from the JavaScript page. (JavaScript will get you a extra 0.1)"
   ]
  },
  {
   "cell_type": "code",
   "execution_count": 1,
   "metadata": {},
   "outputs": [
    {
     "name": "stdout",
     "output_type": "stream",
     "text": [
      "The maximum number of 10 and 20 is 20\n",
      "The minimum number of 10 and 20 is 10\n"
     ]
    }
   ],
   "source": [
    "function findMax(numberA, numberB){\n",
    "    if (numberA > numberB){\n",
    "        return numberA;\n",
    "    } else {\n",
    "        return numberB;\n",
    "    }\n",
    "}\n",
    "function FindMin(numberA,numberB){\n",
    "    if (numberA < numberB){\n",
    "        return numberA;\n",
    "    } else {\n",
    "        return numberB;\n",
    "    }\n",
    "}\n",
    "let maximum1 = findMax(10, 20);\n",
    "let minimum1 = FindMin(10, 20);\n",
    "console.log(\"The maximum number of 10 and 20 is \" + maximum1);\n",
    "console.log(\"The minimum number of 10 and 20 is \" + minimum1);"
   ]
  },
  {
   "attachments": {},
   "cell_type": "markdown",
   "metadata": {},
   "source": [
    "## <mark>Homework/Hacks</mark>: For the hw, you have two options, easy or hard. The easy hack is for a 2.7 + extra work for the full 3. The easy hack is simply creating your own procedure with your own creativity. Since there is a lot of leeway for this one, you must do additional work to get a 3. For the hard hack, below is the start to a character to binary convertor. This is just a template, but the goal is to translate \"APCSP\" into binary. You can delete the existing code if you want. The only contraint is that you must use a procedure. Doing this will get you a 3. "
   ]
  },
  {
   "cell_type": "code",
   "execution_count": 1,
   "metadata": {},
   "outputs": [
    {
     "name": "stdout",
     "output_type": "stream",
     "text": [
      "''APCSP'' in binary is \n",
      "[1000001, 1010000, 1000011, 1010011, 1010000]\n"
     ]
    }
   ],
   "source": [
    "def toBinary(a):\n",
    "  l,m=[],[]\n",
    "  for i in a:\n",
    "    l.append(ord(i))\n",
    "  for i in l:\n",
    "    m.append(int(bin(i)[2:]))\n",
    "  return m\n",
    "\n",
    "print(\"''APCSP'' in binary is \") \n",
    "print(toBinary(\"APCSP\"))"
   ]
  }
 ],
 "metadata": {
  "kernelspec": {
   "display_name": "JavaScript (Node.js)",
   "language": "javascript",
   "name": "javascript"
  },
  "language_info": {
   "file_extension": ".js",
   "mimetype": "application/javascript",
   "name": "javascript",
   "version": "10.13.0"
  },
  "orig_nbformat": 4,
  "vscode": {
   "interpreter": {
    "hash": "31f2aee4e71d21fbe5cf8b01ff0e069b9275f58929596ceb00d14d90e3e16cd6"
   }
  }
 },
 "nbformat": 4,
 "nbformat_minor": 2
}
