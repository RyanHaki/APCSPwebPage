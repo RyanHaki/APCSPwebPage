{
 "cells": [
  {
   "cell_type": "markdown",
   "metadata": {},
   "source": [
    "# 3.9 and 3.11\n",
    "\n",
    "- toc: true \n",
    "- badges: true\n",
    "- comments: true\n",
    "- categories: [Week-14]"
   ]
  },
  {
   "cell_type": "markdown",
   "metadata": {},
   "source": [
    "# Review\n",
    "\n",
    "## if-else statements\n",
    "\n",
    "Syntax: \n",
    "\n",
    "```\n",
    "if (condition) {\n",
    "\n",
    "} else if (condition 2) {\n",
    "    \n",
    "} else {\n",
    "    \n",
    "}\n",
    "```\n",
    "\n",
    "## for loops \n",
    "\n",
    "<pre>\n",
    "for (let i = <em>number</em>; i < <em>number</em>; i++) {\n",
    "    // code\n",
    "}\n",
    "</pre>"
   ]
  },
  {
   "cell_type": "markdown",
   "metadata": {},
   "source": [
    "# Conditionals vs Booleans\n",
    "\n",
    "Conditionals and booleans can be equivalent. \n",
    "\n",
    "For example, let's say there are two booleans: `rainy` and `sunny`. \n",
    "\n",
    "Let's look at the following code: "
   ]
  },
  {
   "cell_type": "code",
   "execution_count": null,
   "metadata": {
    "vscode": {
     "languageId": "javascript"
    }
   },
   "outputs": [],
   "source": [
    "sunny = true; \n",
    "rainy = false; "
   ]
  },
  {
   "cell_type": "code",
   "execution_count": 21,
   "metadata": {
    "vscode": {
     "languageId": "javascript"
    }
   },
   "outputs": [
    {
     "name": "stdout",
     "output_type": "stream",
     "text": [
      "false\n"
     ]
    }
   ],
   "source": [
    "if (sunny) {\n",
    "    umbrella = false; \n",
    "} else if (rainy) {\n",
    "    umbrella = true; \n",
    "} else {\n",
    "    umbrella = false; \n",
    "}\n",
    "\n",
    "console.log(umbrella); "
   ]
  },
  {
   "cell_type": "markdown",
   "metadata": {},
   "source": [
    "The code above is the same as below: "
   ]
  },
  {
   "cell_type": "code",
   "execution_count": 19,
   "metadata": {
    "vscode": {
     "languageId": "javascript"
    }
   },
   "outputs": [
    {
     "name": "stdout",
     "output_type": "stream",
     "text": [
      "false\n"
     ]
    }
   ],
   "source": [
    "umbrella = !sunny && rainy;\n",
    "\n",
    "console.log(umbrella); "
   ]
  },
  {
   "cell_type": "markdown",
   "metadata": {},
   "source": [
    "To determine if two conditionals and booleans are the same, you can substitute the four possibilities that the two booleans (sunny and rainy) can be (listed below) into the conditional and boolean and see if both cases match: \n",
    "\n",
    "`sunny = true`, `rainy = true`\n",
    "\n",
    "`sunny = true`, `rainy = false`\n",
    "\n",
    "`sunny = false`, `rainy = true`\n",
    "\n",
    "`sunny = false`, `rainy = false`\n",
    "\n"
   ]
  },
  {
   "cell_type": "markdown",
   "metadata": {},
   "source": [
    "# Developing Algorithms "
   ]
  },
  {
   "cell_type": "markdown",
   "metadata": {},
   "source": [
    "Algorithms can be written in different ways and still accomplish the same tasks.\n",
    "Algorithms that look similar often yield differnet outputs.\n",
    "To solve the same problem, many different algorithms can be used.\n",
    "\n",
    "Therefore, algorithms are very important for programmers, and today we're going to explore how to determine the outcome of algorithms, how to deteremine the output of similar algorithms, how to edit existing algorithms, and how to develop our own algorithms."
   ]
  },
  {
   "cell_type": "markdown",
   "metadata": {},
   "source": [
    "### Determine the outcome of algorithms\n",
    "\n",
    "**Consider the following algorithm.**"
   ]
  },
  {
   "cell_type": "code",
   "execution_count": 1,
   "metadata": {},
   "outputs": [
    {
     "name": "stdout",
     "output_type": "stream",
     "text": [
      "True\n"
     ]
    }
   ],
   "source": [
    "def mystery(num, num2):\n",
    "    if (num % num2 == 0):\n",
    "        print(\"True\")\n",
    "    else:\n",
    "        print(\"False\")\n",
    "\n",
    "mystery(20, 4)"
   ]
  },
  {
   "cell_type": "markdown",
   "metadata": {},
   "source": [
    "1. What does the algorithm do? Please explain in words. : The algorithm takes in two numbers, num and num2, and checks to see if num is divisible by num2. If num is divisible by num2, it prints \"True\", and if not, it prints \"False\".\n",
    "2. What if I put in 30 as num and 4 as num2. What would be the output?: False "
   ]
  },
  {
   "cell_type": "markdown",
   "metadata": {},
   "source": [
    "### Determine the outcome of similar algorithms\n",
    "\n",
    "What is the output of this algorithm?"
   ]
  },
  {
   "cell_type": "code",
   "execution_count": 2,
   "metadata": {},
   "outputs": [
    {
     "name": "stdout",
     "output_type": "stream",
     "text": [
      "it is too hot outside\n"
     ]
    }
   ],
   "source": [
    "temp = 95\n",
    "if (temp >= 90):\n",
    "    print(\"it is too hot outside\")\n",
    "else:\n",
    "    if (temp >= 65):\n",
    "        print(\"I will go outside\")\n",
    "    else:\n",
    "        print(\"it is too cold outside\")"
   ]
  },
  {
   "cell_type": "markdown",
   "metadata": {},
   "source": [
    "What is the output of this algorithm? it looks similar but the output is different!"
   ]
  },
  {
   "cell_type": "code",
   "execution_count": 3,
   "metadata": {},
   "outputs": [
    {
     "name": "stdout",
     "output_type": "stream",
     "text": [
      "it is too hot outside\n"
     ]
    }
   ],
   "source": [
    "temp = 95\n",
    "if (temp >= 90):\n",
    "    print(\"it is too hot outside\")\n",
    "elif (temp >= 65):\n",
    "    print(\"i will go outside\")\n",
    "if (temp < 65):\n",
    "    print(\"it is too cold outside\")"
   ]
  },
  {
   "cell_type": "markdown",
   "metadata": {},
   "source": [
    "### Editing Algorithms\n",
    "Task: Please edit the algorithm above to have it yield the same results as the previous algorithm! (no matter what temp you put in)"
   ]
  },
  {
   "cell_type": "markdown",
   "metadata": {},
   "source": [
    "### Developing Algorithms\n",
    "\n",
    "\n",
    "To develop algorithms, we first need to understand what the question is asking. Then, think about how you would approach it as a human and then try to find what pattern you went through to arrive at the answer. Apply this to code, and there you have it! An algorithm!"
   ]
  },
  {
   "cell_type": "markdown",
   "metadata": {},
   "source": [
    "Let's say you wanted to sum up the first five integers. How would you do this in real life?\n",
    "Your thought process would probably be:\n",
    "- The sum of the first integer is 1. \n",
    "- Then, increase that integer by 1. I now add 2 to my existing sum (1). My new sum is 3.\n",
    "- Repeat until I add 5 to my sum.\n",
    "The resulting sum is 15.\n",
    "\n",
    "Now let's translate this into code."
   ]
  },
  {
   "cell_type": "code",
   "execution_count": 4,
   "metadata": {},
   "outputs": [
    {
     "name": "stdout",
     "output_type": "stream",
     "text": [
      "15\n"
     ]
    }
   ],
   "source": [
    "sum = 0 # start with a sum of 0\n",
    "for i in range (1, 6): # you will repeat the process five times for integers 1-5\n",
    "    sum = sum + i # add the number to your sum\n",
    "print(sum) # print the result"
   ]
  },
  {
   "cell_type": "markdown",
   "metadata": {},
   "source": [
    "Task: Write an algorithm in python that sums up the first 5 odd integers. You can use the following code as a starter."
   ]
  },
  {
   "cell_type": "code",
   "execution_count": 5,
   "metadata": {},
   "outputs": [
    {
     "name": "stdout",
     "output_type": "stream",
     "text": [
      "25\n"
     ]
    }
   ],
   "source": [
    "sum = 0\n",
    "counter = 1\n",
    "for i in range (0, 5):\n",
    "    sum = sum + counter\n",
    "    counter = counter + 2\n",
    "print(sum)"
   ]
  },
  {
   "cell_type": "markdown",
   "metadata": {},
   "source": [
    "# Searching Introduction\n"
   ]
  },
  {
   "cell_type": "markdown",
   "metadata": {},
   "source": [
    "## What is searching?\n",
    "In certain computer programs and applications, one might find the need to locate and retrieve a data value and/or it's index. Searching algorithms could be done in either intervals or sequences, and certain algorithms could be more efficient than others, with benefits and drawbacks to each.\n",
    "\n"
   ]
  },
  {
   "cell_type": "markdown",
   "metadata": {},
   "source": [
    "## The Naive Approach\n",
    "The most intuitively obvious solution to the searching problem is to sequentialy check each successful value in the data structure until either a matching value is found, or the entire structure has been transversed. This thought process could be explained graphically in this example\n",
    "\n"
   ]
  },
  {
   "cell_type": "markdown",
   "metadata": {},
   "source": [
    "This algorithm could also be expressed in code, as shown below."
   ]
  },
  {
   "cell_type": "code",
   "execution_count": null,
   "metadata": {},
   "outputs": [],
   "source": [
    "def sequentialSearch(arr, target):\n",
    "    N = len(arr)                     # Declare N as length of array\n",
    "    for i in range(N):               # Iterate over the list\n",
    "        if arr[i] == target:         # Check for match\n",
    "            return i                 # Match found, return index and end function call\n",
    "    return -1                        # Element not found"
   ]
  },
  {
   "cell_type": "markdown",
   "metadata": {},
   "source": [
    "### Sequential Search - Larger Inputs\n",
    "Although for selection sort is seemingly fast for smaller inputs, it is clear that it cannot keep up with increasing input sizes. Because sequential search checks every value of the given array, the algorithm's overall runtime increases \"linearly\" with the input size.\n",
    "\n",
    "i.e. Pretend that one check takes one second, and that we are searching for the last element in an array. If the array length is 4, it would take 4 seconds to find the last element, whereas if the array length is 86400 indices long, it would take a whole day to find the element.  \n",
    "\n",
    "Hence, although selection sort is known for its simplicity, it is unfeasible for large inputs"
   ]
  },
  {
   "cell_type": "markdown",
   "metadata": {},
   "source": [
    "Below, we have created three **sorted** lists of length 100,1000000,100000000."
   ]
  },
  {
   "cell_type": "code",
   "execution_count": null,
   "metadata": {},
   "outputs": [],
   "source": [
    "import time\n",
    "arr1 = [i for i in range(100)]\n",
    "arr2 = [i for i in range(1000000)]\n",
    "arr3 = [i for i in range(100000000)]"
   ]
  },
  {
   "cell_type": "markdown",
   "metadata": {},
   "source": [
    "To analyze the sequential search algorithm, we will check for the worst case scenario, where runtime is maximized. This is because when measuring the efficiency of our algorithm, we want to be able to guarantee an upper limit or set amount of time for our program to finish running. To do this, we will attempt to search for the last element in the array"
   ]
  },
  {
   "cell_type": "markdown",
   "metadata": {},
   "source": [
    "## Binary Search\n",
    "Binary search is an efficient way to iterate through a ***SORTED*** list to find a requested value. This is done through checking the middle value of a list and checking if the requested value is greater than or less than the middle value. You can start to see why the requested list must be sorted. If the list is not sorted, this logic is flawed, and the binary search algorithm will no longer work.\n",
    "\n",
    "Unlike the sequential search method, binary search doesn't check for each successive element until a match is found. In every iteration the algorithm is making a binary decision; if the selected element is larger or smaller than the target.\n",
    "\n",
    "How exactly does this work? Lets look at these amazing ms paint drawings:"
   ]
  },
  {
   "cell_type": "markdown",
   "metadata": {},
   "source": [
    "This algorithm is extremely efficient as the maximum number of cycles in binary search is equal to log base 2 of the closest, next power of two, to length of list. \n",
    "> If the array is 8 items long, the maximum possible cycles would be **3** (log base 2 of 8 is 3)\n",
    ">\n",
    "> If the array is 7 items long, the maximum possible cycles would **STILL** be **3** as the closest power of 2 to 7 is 8. \n",
    "> \n",
    "> If the array is 9 items long, the maximum possible cycles **INCREASES** to **4**, as the closest, next power of two, is 16.\n"
   ]
  },
  {
   "cell_type": "code",
   "execution_count": null,
   "metadata": {},
   "outputs": [],
   "source": [
    "def binarySearch(array, target):            # Parameters: array is the given array and target is what we are looking for\n",
    "    low = 0                                 # the starting lower bound\n",
    "    high = len(array)-1                     # the starting upper bound\n",
    "    while high >= low:                      # we will keep running until we run out of possible subarrays...\n",
    "        mid = (high + low) // 2             #   define the middle of the list to be the item at the index of the average of the lower and upper bound\n",
    "        if array[mid] == target:            #   if item is in the middle of the list... we found what we are looking for!\n",
    "            return mid                      #       therefore, we return the index of where we found the item.\n",
    "        elif array[mid] > target:           #   if item is less than the middle of the list, this must mean that the item is on the lower half of the list\n",
    "            high = mid-1                    #       therefore, we set the upper bound of the search to be the last item of the lower half\n",
    "        else:                               #   if item is neither less than or equal to the middle of the list, this must mean that the item is on the upper half of the list\n",
    "            low = mid+1                     #       therefore, we set the lower bound of the search to be the first item of the upper half\n",
    "                                            # if nothing is returned by the time the while loop ends, that means item MUST be missing from list\n",
    "    return False                            #   therefore we tell the user that the requested item was not found\n"
   ]
  },
  {
   "cell_type": "markdown",
   "metadata": {},
   "source": [
    "Likewise, we can also take a recursive approach to this problem, note the similarities"
   ]
  },
  {
   "cell_type": "markdown",
   "metadata": {},
   "source": [
    "## Challenges and Homework\n",
    "\n",
    "You have one homework problem.\n",
    "  \n",
    "Yes just one.\n",
    "  \n",
    "Don't get excited though.\n",
    "\n",
    "**Problem:** Given a specific integer **N**, return the square root of **N** (**R**) if **N** is a perfect square, otherwise, return the square root of **N** rounded down to the nearest integer\n",
    "\n",
    "**Input:** **N** (Integer)\n",
    "\n",
    "**Output:** **R** (Integer)\n",
    "  \n",
    "**Constraints:** Do not use any built-in math operations such as `sqrt(x)` or `x**(0.5)`, Try complete the problem in logarithmic time. \n",
    "  \n",
    "**Hint 1:** Maybe you can use Binary Search to try and reduce the number of checks you have to perform?  \n",
    "  \n",
    "**Hint 2:** Is there a mathematical pattern amongst numbers and their square roots that could help you reduce the number of searches or iterations you must execute? Is there some value or rule you can set before applying binary search to narrow the range of possible values?"
   ]
  },
  {
   "cell_type": "markdown",
   "metadata": {},
   "source": [
    "Run the very last code segment below to load test cases and submission function"
   ]
  },
  {
   "cell_type": "code",
   "execution_count": 8,
   "metadata": {},
   "outputs": [],
   "source": [
    "def sqrt(N):\n",
    "    if N == 0 or N == 1:\n",
    "        return N\n",
    "    start = 1\n",
    "    end = N\n",
    "    while start <= end:\n",
    "        mid = (start + end) // 2\n",
    "        if mid*mid == N:\n",
    "            return mid\n",
    "        if mid*mid < N:\n",
    "            start = mid + 1\n",
    "        else:\n",
    "            end = mid - 1\n",
    "    return end\n"
   ]
  },
  {
   "cell_type": "code",
   "execution_count": 9,
   "metadata": {},
   "outputs": [
    {
     "name": "stdout",
     "output_type": "stream",
     "text": [
      "Check number 1 passed\n",
      "Check number 2 passed\n",
      "Check number 3 passed\n",
      "Check number 4 passed\n",
      "Check number 5 passed\n",
      "Check number 6 passed\n",
      "Check number 7 passed\n",
      "Check number 8 passed\n",
      "Check number 9 passed\n",
      "Check number 10 passed\n",
      "Check number 11 passed\n",
      "Check number 12 passed\n",
      "Check number 13 passed\n"
     ]
    }
   ],
   "source": [
    "from math import sqrt as sq\n",
    "test_cases = [0,1,4,85248289,22297284,18939904,91107025,69122596,9721924,37810201,1893294144,8722812816,644398225]\n",
    "answers = [int(sq(x)) for x in test_cases]\n",
    "\n",
    "def checkValid():\n",
    "    for i in range(len(test_cases)):\n",
    "        if sqrt(test_cases[i]) == answers[i]:\n",
    "            print(\"Check number {} passed\".format(i+1))\n",
    "        else:\n",
    "            print(\"Check number {} failed\".format(i+1))\n",
    "\n",
    "checkValid()"
   ]
  },
  {
   "cell_type": "markdown",
   "metadata": {},
   "source": [
    "### Homework\n",
    "Create an algorithm that will start with any positive integer n and display the full sequence of numbers that result from the Collatz Conjecture. The COllatz Conjecture is as follows:\n",
    "1. start with any positive integer\n",
    "2. if the number is even, divide by 2\n",
    "3. if the number is odd, multiply by 3 and add 1\n",
    "4. repeat steps 2 and 3 until you reach 1\n",
    "\n",
    "Example: if the starting number was 6, the output would be 6, 3, 10, 5, 16, 8, 4, 2, 1"
   ]
  },
  {
   "cell_type": "code",
   "execution_count": 10,
   "metadata": {},
   "outputs": [
    {
     "name": "stdout",
     "output_type": "stream",
     "text": [
      "16\n",
      "8.0\n",
      "4.0\n",
      "2.0\n",
      "1.0\n"
     ]
    }
   ],
   "source": [
    "\n",
    "def collatz(n):\n",
    "    while n != 1:\n",
    "        if n % 2 == 0:\n",
    "            n = n / 2\n",
    "            print(n)\n",
    "        else:\n",
    "            n = n * 3 + 1\n",
    "            print(n)\n",
    "\n",
    "collatz(5)"
   ]
  },
  {
   "cell_type": "markdown",
   "metadata": {},
   "source": [
    "# Challenge / wasn't able to figure it out\n",
    "\n",
    "Using JavaScript, create an algorithm that takes in an IP address and a subnet mask and computes the network address.\n",
    "\n",
    "## Overview\n",
    "\n",
    "As we've seen in Unit 4.1, an IP address is a 32 bit number that uniquely identifies each device. (See [this](https://apclassroom.collegeboard.org/103/home?apd=n5rz22pu2h&unit=4) for a recap). Something extra is that an IP address also comes with a subnet mask. A subnet mask is also a 32 bit number that identifies what network an IP address in in through a process that uses the bitwise AND.\n",
    "\n",
    "In ANDing: \n",
    "\n",
    "0 + 0 = 0\n",
    "\n",
    "0 + 1 = 0 \n",
    "\n",
    "1 + 0 = 0\n",
    "\n",
    "1 + 1 = 1\n",
    "\n",
    "<br>\n",
    "The following are the steps to determine the network that an IP address is in given the subnet mask:\n",
    "\n",
    "Example: IP address: 192.168.0.1\n",
    "\n",
    "Subnet mask: 255.255.255.0\n",
    "\n",
    "1. Convert the IP address into binary: 192.168.0.1 -> 11000000.10101000.00000000.00000001\n",
    "2. Convert the subnet mask into binary: 255.255.255.0 -> 11111111.11111111.11111111.00000000\n",
    "3. Do a bitwise AND operation on the binary IP address and subnet mask: \n",
    "\n",
    "```\n",
    " 11000000.10101000.00000000.00000001\n",
    "+11111111.11111111.11111111.00000000\n",
    "=11000000.10101000.00000000.00000000\n",
    "```\n",
    "4. Convert the result back to decimal: 11000000.10101000.00000000.00000000 -> 192.168.0.0\n",
    "\n",
    "The network address is `192.168.0.0`\n"
   ]
  },
  {
   "cell_type": "markdown",
   "metadata": {},
   "source": [
    "## 3.9 Binary Search Notes"
   ]
  },
  {
   "cell_type": "markdown",
   "metadata": {},
   "source": [
    "- Searching when it comes to computer programs and applications involves locating and retrieving a data value/and or its index\n",
    "    - Searching algorithms can be done in intervals or sequentially\n",
    "- Sequential Search - checks every value of the given array\n",
    "    - Cannot keep up with increasing input sizes, as the longer the array, the more time that it will take for the search to check\n",
    "    - In other words, as the input lists gets larger, the runtime of the program increases \"linearly\" as well\n",
    "- Binary Search - a more efficient way to check through a sorted list to find a specific value\n",
    "    - Involves checking the medium or middle value of a list and checking if the requested value is higher or lower than the middle value\n",
    "    - If the list is not sorted or in a proper order, the binary search algorithm cannot work anymore\n",
    "    - The maximum number of cycles in a binary search is equivalent to the log base 2 of the closest, next power of 2, to the length of the list\n",
    "    - When it comes to execution time, using the binary search method will overall take less time than using the sequential search method and is therefore more efficient and worthy of one's time"
   ]
  },
  {
   "cell_type": "markdown",
   "metadata": {},
   "source": [
    "## 3.11 Algorithms (Can be Applied to both Python & JavaScript) Notes"
   ]
  },
  {
   "cell_type": "markdown",
   "metadata": {},
   "source": [
    "- Algorithms are specific steps designed to accomplish a certain task\n",
    "- In developing algorithms, it is crucial to understand what the question is asking\n",
    "- Example: if one wanted to sum up the first five integers, they would probably think about how...\n",
    "    - The sum of the first integer is 1\n",
    "    - Increase that integer by 1 before adding 2 to the existing sum. At this point, the new sum is 3\n",
    "    - This process would be repeated until 5 is added to the sum. To recap, this thought process would look something like this for humans:\n",
    "        - 1+2+3+4+5 = 15\n",
    "    - The resulting sum of the first five integers is 15.\n"
   ]
  },
  {
   "cell_type": "code",
   "execution_count": 11,
   "metadata": {},
   "outputs": [
    {
     "name": "stdout",
     "output_type": "stream",
     "text": [
      "15\n"
     ]
    }
   ],
   "source": [
    "sum = 0 # start with a sum of 0\n",
    "for i in range (1, 6): # you will repeat the process five times for integers 1-5\n",
    "    sum = sum + i # add the number to your sum\n",
    "print(sum) # print the result"
   ]
  }
 ],
 "metadata": {
  "kernelspec": {
   "display_name": "Python 3.9.6 64-bit",
   "language": "python",
   "name": "python3"
  },
  "language_info": {
   "codemirror_mode": {
    "name": "ipython",
    "version": 3
   },
   "file_extension": ".py",
   "mimetype": "text/x-python",
   "name": "python",
   "nbconvert_exporter": "python",
   "pygments_lexer": "ipython3",
   "version": "3.9.6"
  },
  "orig_nbformat": 4,
  "vscode": {
   "interpreter": {
    "hash": "31f2aee4e71d21fbe5cf8b01ff0e069b9275f58929596ceb00d14d90e3e16cd6"
   }
  }
 },
 "nbformat": 4,
 "nbformat_minor": 2
}
