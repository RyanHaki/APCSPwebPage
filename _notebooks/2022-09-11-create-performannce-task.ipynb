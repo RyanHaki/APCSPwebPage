{
 "cells": [
  {
   "cell_type": "markdown",
   "metadata": {},
   "source": [
    "## Early Planning for Create Performance Task\n",
    "- toc: true\n",
    "- branch: master\n",
    "- badges: true\n",
    "- comments: true\n",
    "- categories: [week_3]"
   ]
  },
  {
   "cell_type": "markdown",
   "metadata": {},
   "source": [
    "This is the beginning of planning for the Create Performance Task assignment. More will be added to this post as weeks go by until it is time to code.\n",
    "\n",
    "What I know that could help with the project:\n",
    "- How to make a quiz\n",
    "- How to create list\n",
    "- How to use dictionaries\n",
    "- How to explain the code I have made\n",
    "\n",
    "What I need to do for the project:\n",
    "- Learn how to use different functions\n",
    "- Learn how to display variables correctly\n",
    "- Look at examples of bad, good, and great Performance Task Projects\n",
    "- Look over the college board requirements"
   ]
  },
  {
   "cell_type": "markdown",
   "metadata": {},
   "source": [
    "Week 3-Brainstorming\n",
    "\n",
    "Purposes for a project:\n",
    "- test the user's senses\n",
    "- test the user's knowlegde of a given topic\n",
    "\n",
    "Ideas for the project:\n",
    "- A game that involves the user to use one of their 5 senses to complete a simple task quickly.\n",
    "- A quiz in a unique style; Jeopardy, Head to Head, or 5 seconds."
   ]
  }
 ],
 "metadata": {
  "language_info": {
   "name": "python"
  },
  "orig_nbformat": 4
 },
 "nbformat": 4,
 "nbformat_minor": 2
}
