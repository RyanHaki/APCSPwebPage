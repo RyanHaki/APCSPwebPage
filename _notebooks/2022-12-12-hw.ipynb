{
 "cells": [
  {
   "attachments": {},
   "cell_type": "markdown",
   "metadata": {},
   "source": [
    "# Unit 3 Lesson 16, Student Copy\n",
    "- toc: true\n",
    "- comments: true\n"
   ]
  },
  {
   "cell_type": "markdown",
   "metadata": {},
   "source": [
    "### Hack #1 - Class Notes\n",
    "\n",
    "Write any extra notes you have here:\n",
    "\n",
    "- Simulations are abstractions that mimic more complex objects or phenomena from the real world\n",
    "\n",
    "Why a simulation is considered an abstraction:\n",
    "- 1: It uses a conditional to execute one part of the code only when a particular condition is met.\n",
    "- 2: It uses a REPEAT loop to run the same block of code multiple times.\n",
    "- 3: It simplifies a real-world scenario into something that can be modeled in code and executed on a computer.\n",
    "- 4: It does not request input from the user or display output to the user.\n",
    "\n"
   ]
  },
  {
   "cell_type": "code",
   "execution_count": 3,
   "metadata": {},
   "outputs": [
    {
     "name": "stdout",
     "output_type": "stream",
     "text": [
      "82\n"
     ]
    }
   ],
   "source": [
    "import random\n",
    "\n",
    "x = random.randint(1, 100)\n",
    "print(x)"
   ]
  },
  {
   "cell_type": "code",
   "execution_count": 7,
   "metadata": {},
   "outputs": [
    {
     "name": "stdout",
     "output_type": "stream",
     "text": [
      "Would you like to 'add' or 'trash' something from your closet?\n",
      "Trashing belt from your closet!\n",
      "['red shoes', 'green pants', 'belt']\n"
     ]
    }
   ],
   "source": [
    "def mycloset():\n",
    "    myclothes = [\"red shoes\", \"green pants\", \"tie\", \"belt\"]\n",
    "    print(\"Would you like to 'add' or 'trash' something from your closet?\")\n",
    "    user_choice = input()\n",
    "    if user_choice == \"add\":\n",
    "        new_clothes = [\"sweater\", \"hat\", \"scarf\", \"jacket\"]\n",
    "        print(f\"Adding {random.choice(new_clothes)} to your closet!\")\n",
    "        myclothes.append(random.choice(new_clothes))\n",
    "    elif user_choice == \"trash\":\n",
    "        print(f\"Trashing {random.choice(myclothes)} from your closet!\")\n",
    "        myclothes.remove(random.choice(myclothes))\n",
    "    else:\n",
    "        print(\"Invalid input!\")\n",
    "    return myclothes\n",
    "\n",
    "print(mycloset())"
   ]
  },
  {
   "cell_type": "code",
   "execution_count": 34,
   "metadata": {},
   "outputs": [
    {
     "name": "stdout",
     "output_type": "stream",
     "text": [
      "Tails\n"
     ]
    }
   ],
   "source": [
    "import random\n",
    "\n",
    "num = random.random()\n",
    "if num < 2/3:\n",
    "  print(\"Heads\")\n",
    "else: \n",
    "  print(\"Tails\")"
   ]
  },
  {
   "attachments": {},
   "cell_type": "markdown",
   "metadata": {},
   "source": [
    "### Hack #2 - Functions Classwork"
   ]
  },
  {
   "cell_type": "code",
   "execution_count": null,
   "metadata": {},
   "outputs": [],
   "source": [
    "# insert your work with randomization/ functions and the mycloset code here # Hint: Use the functions we talked about in the beginning!"
   ]
  },
  {
   "cell_type": "markdown",
   "metadata": {},
   "source": [
    "### Hack #3 - Binary Simulation Problem"
   ]
  },
  {
   "cell_type": "code",
   "execution_count": null,
   "metadata": {},
   "outputs": [],
   "source": [
    "\n",
    "import random\n",
    "\n",
    "def randomnum(): \n",
    "    \n",
    "\n",
    "def converttobin(n): \n",
    "    \n",
    "\n",
    "def survivors(binary): # function to assign position\n",
    "    survivorstatus = [\"Jiya\", \"Shruthi\", \"Noor\", \"Ananya\" , \"Peter Parker\", \"Andrew Garfield\", \"Tom Holland\", \"Tobey Maguire\"]\n"
   ]
  },
  {
   "cell_type": "code",
   "execution_count": 45,
   "metadata": {},
   "outputs": [
    {
     "name": "stdout",
     "output_type": "stream",
     "text": [
      "Jiya is a zombie!\n",
      "Shruthi is safe!\n",
      "Noor is a zombie!\n",
      "Ananya is safe!\n",
      "Peter Parker is safe!\n",
      "Andrew Garfield is safe!\n",
      "Tom Holland is a zombie!\n",
      "Tobey Maguire is safe!\n"
     ]
    }
   ],
   "source": [
    "def randomnum(): \n",
    "    randomnum = random.randint(0,255)\n",
    "    return randomnum\n",
    "\n",
    "def converttobin(n): \n",
    "    binary = bin(n)[2:]\n",
    "    binary = binary.zfill(8)\n",
    "    return binary\n",
    "\n",
    "def survivors(binary): # function to assign position\n",
    "    survivorstatus = [\"Jiya\", \"Shruthi\", \"Noor\", \"Ananya\" , \"Peter Parker\", \"Andrew Garfield\", \"Tom Holland\", \"Tobey Maguire\"]\n",
    "    for i in range(8):\n",
    "        if binary[i] == '1':\n",
    "            print(survivorstatus[i] + \" is a zombie!\")\n",
    "        else:\n",
    "            print(survivorstatus[i] + \" is safe!\")\n",
    "\n",
    "def main(): \n",
    "    n = randomnum()\n",
    "    binary = converttobin(n) \n",
    "    survivors(binary) \n",
    "\n",
    "main()"
   ]
  },
  {
   "cell_type": "markdown",
   "metadata": {},
   "source": [
    "### Hack #4 - Thinking through a problem\n",
    "- create your own simulation involving a dice roll\n",
    "- should include randomization and a function for rolling + multiple trials"
   ]
  },
  {
   "cell_type": "code",
   "execution_count": 46,
   "metadata": {},
   "outputs": [
    {
     "name": "stdout",
     "output_type": "stream",
     "text": [
      "Trial 1 : 4\n",
      "Trial 2 : 6\n",
      "Trial 3 : 3\n",
      "Trial 4 : 4\n",
      "Trial 5 : 1\n",
      "Trial 6 : 6\n"
     ]
    }
   ],
   "source": [
    "\n",
    "import random\n",
    "\n",
    "def roll_dice(): \n",
    "    return random.randint(1, 6)\n",
    "\n",
    "trials = int(input(\"How many trials would you like to do?: \"))\n",
    "\n",
    "for trial in range(trials):\n",
    "    print(\"Trial\", trial + 1, \":\", roll_dice())"
   ]
  },
  {
   "attachments": {},
   "cell_type": "markdown",
   "metadata": {},
   "source": [
    "### Hack 5 - Applying your knowledge to situation based problems\n",
    "\n",
    "Using the questions bank below, create a quiz that presents the user a random question and calculates the user's score. You can use the template below or make your own. Making your own using a loop can give you extra points. "
   ]
  },
  {
   "attachments": {},
   "cell_type": "markdown",
   "metadata": {},
   "source": [
    "1. A researcher gathers data about the effect of Advanced Placement®︎ classes on students' success in college and career, and develops a simulation to show how a sequence of AP classes affect a hypothetical student's pathway.Several school administrators are concerned that the simulation contains bias favoring high-income students, however.\n",
    "    - answer options:\n",
    "        1. The simulation is an abstraction and therefore cannot contain any bias\n",
    "        2. The simulation may accidentally contain bias due to the exclusion of details.\n",
    "        3. If the simulation is found to contain bias, then it is not possible to remove the bias from the simulation.\n",
    "        4. The only way for the simulation to be biased is if the researcher intentionally used data that favored their desired output.\n",
    "2. Jack is trying to plan his financial future using an online tool. The tool starts off by asking him to input details about his current finances and career. It then lets him choose different future scenarios, such as having children. For each scenario chosen, the tool does some calculations and outputs his projected savings at the ages of 35, 45, and 55.Would that be considered a simulation and why?\n",
    "    - answer options\n",
    "        1. No, it's not a simulation because it does not include a visualization of the results.\n",
    "        2. No, it's not a simulation because it does not include all the details of his life history and the future financial environment.\n",
    "        3. Yes, it's a simulation because it runs on a computer and includes both user input and computed output.\n",
    "        4. Yes, it's a simulation because it is an abstraction of a real world scenario that enables the drawing of inferences.\n",
    "3. Sylvia is an industrial engineer working for a sporting goods company. She is developing a baseball bat that can hit balls with higher accuracy and asks their software engineering team to develop a simulation to verify the design.Which of the following details is most important to include in this simulation?\n",
    "    - answer options\n",
    "        1. Realistic sound effects based on the material of the baseball bat and the velocity of the hit\n",
    "        2. A depiction of an audience in the stands with lifelike behavior in response to hit accuracy\n",
    "        3. Accurate accounting for the effects of wind conditions on the movement of the ball\n",
    "        4. A baseball field that is textured to differentiate between the grass and the dirt\n",
    "4. Ashlynn is an industrial engineer who is trying to design a safer parachute. She creates a computer simulation of the parachute opening at different heights and in different environmental conditions.What are advantages of running the simulation versus an actual experiment?\n",
    "    - answer options\n",
    "        1. The simulation will not contain any bias that favors one body type over another, while an experiment will be biased.\n",
    "        2. The simulation can be run more safely than an actual experiment\n",
    "        3. The simulation will accurately predict the parachute's safety level, while an experiment may be inaccurate due to faulty experimental design.\n",
    "        4. The simulation can test the parachute design in a wide range of environmental conditions that may be difficult to reliably reproduce in an experiment.\n",
    "    * this question has 2 correct answers\n",
    "5. YOUR OWN QUESTION; can be situational, pseudo code based, or vocab/concept based\n",
    "6. YOUR OWN QUESTION; can be situational, pseudo code based, or vocab/concept based"
   ]
  },
  {
   "cell_type": "code",
   "execution_count": 50,
   "metadata": {},
   "outputs": [
    {
     "name": "stdout",
     "output_type": "stream",
     "text": [
      "What is the binary representation of the decimal number 15?\n",
      "Correct!\n",
      "What does RAM stand for?\n",
      "Correct!\n",
      "What is the binary representation of the decimal number 15?\n",
      "Correct!\n",
      "What does TCP/IP stand for?\n",
      "Correct!\n",
      "What does TCP/IP stand for?\n",
      "Correct!\n",
      "What is the purpose of a compiler?\n",
      "Correct!\n",
      "You scored 6 out of 6!\n"
     ]
    }
   ],
   "source": [
    "import random\n",
    "\n",
    "questions = {\n",
    "  1: [\"What does RAM stand for?\", \"Random Access Memory\"],\n",
    "  2: [\"What is the most widely used sorting algorithm?\", \"Merge Sort\"],\n",
    "  3: [\"What does TCP/IP stand for?\", \"Transmission Control Protocol / Internet Protocol\"],\n",
    "  4: [\"What is the syntax for an if statement in Python?\", \"if (condition):\"],\n",
    "  5: [\"What is the binary representation of the decimal number 15?\", \"1111\"],\n",
    "  6: [\"What is the purpose of a compiler?\", \"To translate code written in a programming language into machine code\"]\n",
    "}\n",
    "\n",
    "score = 0\n",
    "\n",
    "for i in range(6):\n",
    "  num = random.randint(1, 6)\n",
    "  q = questions[num]\n",
    "  print(q[0])\n",
    "  user_answer = input(\"Type your answer: \")\n",
    "  if user_answer == q[1]:\n",
    "    print(\"Correct!\")\n",
    "    score += 1\n",
    "  else:\n",
    "    print(\"Incorrect!\")\n",
    "\n",
    "print(\"You scored\", score, \"out of 6!\")"
   ]
  },
  {
   "attachments": {},
   "cell_type": "markdown",
   "metadata": {},
   "source": [
    "### Hack #6 / Challenge - Taking real life problems and implementing them into code"
   ]
  },
  {
   "attachments": {},
   "cell_type": "markdown",
   "metadata": {},
   "source": [
    "Create your own simulation based on your experiences/knowledge!\n",
    "Be creative! Think about instances in your own life, science, puzzles that can be made into simulations\n",
    "\n",
    "Some ideas to get your brain running: A simulation that breeds two plants and tells you phenotypes of offspring, an adventure simulation..."
   ]
  }
 ],
 "metadata": {
  "kernelspec": {
   "display_name": "Python 3.9.6 64-bit",
   "language": "python",
   "name": "python3"
  },
  "language_info": {
   "codemirror_mode": {
    "name": "ipython",
    "version": 3
   },
   "file_extension": ".py",
   "mimetype": "text/x-python",
   "name": "python",
   "nbconvert_exporter": "python",
   "pygments_lexer": "ipython3",
   "version": "3.9.6"
  },
  "orig_nbformat": 4,
  "vscode": {
   "interpreter": {
    "hash": "31f2aee4e71d21fbe5cf8b01ff0e069b9275f58929596ceb00d14d90e3e16cd6"
   }
  }
 },
 "nbformat": 4,
 "nbformat_minor": 2
}
